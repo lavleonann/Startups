{
 "cells": [
  {
   "cell_type": "markdown",
   "metadata": {},
   "source": [
    "# Исследование рынка стартапов с целью предсказания успешности стартапа"
   ]
  },
  {
   "cell_type": "markdown",
   "metadata": {},
   "source": [
    "<b><i>Цель проекта:</i></b>\n",
    "Разработать модель, которая предскажет какие из стартапов закроются.\\\n",
    "<b><i>Описание проекта:</i></b>\n",
    "Имеем данные с информацией о стартапах, функционирующих в период с 1970 по 2018 годы.\\\n",
    "Датасет состоит из двух файлов: тренировочный и тестовый набор данных.\\\n",
    "Тренировочный набор содержит целевой признак status, указывающий на то, закрылся стартап или продолжает действовать. Временной период - '1970-01-01' по '2018-01-01'. Дата формирования выгрузки - '2018-01-01'\n",
    "\n",
    "<i>Загрузим необходимые библиотеки:</i>"
   ]
  },
  {
   "cell_type": "code",
   "execution_count": 32,
   "metadata": {},
   "outputs": [],
   "source": [
    "!pip install phik -q\n",
    "!pip install shap -q"
   ]
  },
  {
   "cell_type": "code",
   "execution_count": 153,
   "metadata": {},
   "outputs": [],
   "source": [
    "import pandas as pd\n",
    "import matplotlib.pyplot as plt\n",
    "import matplotlib\n",
    "import seaborn as sns \n",
    "import numpy as np\n",
    "import phik\n",
    "import shap\n",
    "import scipy.stats as st\n",
    "from sklearn.model_selection import train_test_split\n",
    "# загружаем класс pipeline:\n",
    "from sklearn.pipeline import Pipeline, make_pipeline\n",
    "# загружаем классы для подготовки данных:\n",
    "from sklearn.preprocessing import OneHotEncoder, OrdinalEncoder, StandardScaler, MinMaxScaler, RobustScaler, LabelEncoder\n",
    "from sklearn.compose import ColumnTransformer\n",
    "# загружаем нужные модели:\n",
    "from sklearn.linear_model import LogisticRegression\n",
    "from sklearn.neighbors import KNeighborsClassifier\n",
    "from sklearn.tree import DecisionTreeClassifier\n",
    "from sklearn.svm import SVC \n",
    "\n",
    "from sklearn.metrics import f1_score\n",
    "# загружаем функцию для работы с метриками:\n",
    "from sklearn.metrics import roc_auc_score\n",
    "# импортируем класс RandomizedSearchCV:\n",
    "from sklearn.model_selection import RandomizedSearchCV\n",
    "\n",
    "from sklearn.feature_selection import RFECV"
   ]
  },
  {
   "cell_type": "markdown",
   "metadata": {},
   "source": [
    "## Загрузка и ознакомление с данными"
   ]
  },
  {
   "cell_type": "markdown",
   "metadata": {},
   "source": [
    "Файлы хранят следующую информацию:\n",
    "- name - Название стартапа;\n",
    "- category_list - Список категорий, к которым относится стартап;\n",
    "- funding_total_usd - Общая сумма финансирования в USD;\n",
    "- status - Статус стартапа (закрыт или действующий);\n",
    "- country_code - Код страны;\n",
    "- state_code - Код штата;\n",
    "- region - Регион;\n",
    "- city - Город;\n",
    "- funding_rounds - Количество раундов финансирования;\n",
    "- founded_at - Дата основания;\n",
    "- first_funding_at - Дата первого раунда финансирования;\n",
    "- last_funding_at - Дата последнего раунда финансирования;\n",
    "- closed_at - Дата закрытия стартапа (если применимо);\n",
    "- lifetime - Время существования стартапа в днях."
   ]
  },
  {
   "cell_type": "code",
   "execution_count": 34,
   "metadata": {},
   "outputs": [
    {
     "data": {
      "text/html": [
       "<div>\n",
       "<style scoped>\n",
       "    .dataframe tbody tr th:only-of-type {\n",
       "        vertical-align: middle;\n",
       "    }\n",
       "\n",
       "    .dataframe tbody tr th {\n",
       "        vertical-align: top;\n",
       "    }\n",
       "\n",
       "    .dataframe thead th {\n",
       "        text-align: right;\n",
       "    }\n",
       "</style>\n",
       "<table border=\"1\" class=\"dataframe\">\n",
       "  <thead>\n",
       "    <tr style=\"text-align: right;\">\n",
       "      <th></th>\n",
       "      <th>name</th>\n",
       "      <th>category_list</th>\n",
       "      <th>funding_total_usd</th>\n",
       "      <th>status</th>\n",
       "      <th>country_code</th>\n",
       "      <th>state_code</th>\n",
       "      <th>region</th>\n",
       "      <th>city</th>\n",
       "      <th>funding_rounds</th>\n",
       "      <th>founded_at</th>\n",
       "      <th>first_funding_at</th>\n",
       "      <th>last_funding_at</th>\n",
       "      <th>closed_at</th>\n",
       "    </tr>\n",
       "  </thead>\n",
       "  <tbody>\n",
       "    <tr>\n",
       "      <th>0</th>\n",
       "      <td>Lunchgate</td>\n",
       "      <td>Online Reservations|Restaurants</td>\n",
       "      <td>828626.0</td>\n",
       "      <td>operating</td>\n",
       "      <td>CHE</td>\n",
       "      <td>25</td>\n",
       "      <td>Zurich</td>\n",
       "      <td>Zürich</td>\n",
       "      <td>2</td>\n",
       "      <td>2009-12-31</td>\n",
       "      <td>2011-05-01</td>\n",
       "      <td>2014-12-01</td>\n",
       "      <td>NaN</td>\n",
       "    </tr>\n",
       "    <tr>\n",
       "      <th>1</th>\n",
       "      <td>EarLens</td>\n",
       "      <td>Manufacturing|Medical|Medical Devices</td>\n",
       "      <td>42935019.0</td>\n",
       "      <td>operating</td>\n",
       "      <td>USA</td>\n",
       "      <td>CA</td>\n",
       "      <td>SF Bay Area</td>\n",
       "      <td>Redwood City</td>\n",
       "      <td>4</td>\n",
       "      <td>2005-01-01</td>\n",
       "      <td>2010-05-04</td>\n",
       "      <td>2014-02-25</td>\n",
       "      <td>NaN</td>\n",
       "    </tr>\n",
       "    <tr>\n",
       "      <th>2</th>\n",
       "      <td>Reviva Pharmaceuticals</td>\n",
       "      <td>Biotechnology</td>\n",
       "      <td>35456381.0</td>\n",
       "      <td>operating</td>\n",
       "      <td>USA</td>\n",
       "      <td>CA</td>\n",
       "      <td>SF Bay Area</td>\n",
       "      <td>San Jose</td>\n",
       "      <td>3</td>\n",
       "      <td>2006-01-01</td>\n",
       "      <td>2012-08-20</td>\n",
       "      <td>2014-07-02</td>\n",
       "      <td>NaN</td>\n",
       "    </tr>\n",
       "    <tr>\n",
       "      <th>3</th>\n",
       "      <td>Sancilio and Company</td>\n",
       "      <td>Health Care</td>\n",
       "      <td>22250000.0</td>\n",
       "      <td>operating</td>\n",
       "      <td>NaN</td>\n",
       "      <td>NaN</td>\n",
       "      <td>NaN</td>\n",
       "      <td>NaN</td>\n",
       "      <td>3</td>\n",
       "      <td>2004-01-01</td>\n",
       "      <td>2011-09-01</td>\n",
       "      <td>2014-07-18</td>\n",
       "      <td>NaN</td>\n",
       "    </tr>\n",
       "    <tr>\n",
       "      <th>4</th>\n",
       "      <td>WireTough Cylinders</td>\n",
       "      <td>Manufacturing</td>\n",
       "      <td>NaN</td>\n",
       "      <td>operating</td>\n",
       "      <td>USA</td>\n",
       "      <td>VA</td>\n",
       "      <td>VA - Other</td>\n",
       "      <td>Bristol</td>\n",
       "      <td>1</td>\n",
       "      <td>2010-09-30</td>\n",
       "      <td>2012-02-01</td>\n",
       "      <td>2012-02-01</td>\n",
       "      <td>NaN</td>\n",
       "    </tr>\n",
       "  </tbody>\n",
       "</table>\n",
       "</div>"
      ],
      "text/plain": [
       "                     name                          category_list  \\\n",
       "0               Lunchgate        Online Reservations|Restaurants   \n",
       "1                 EarLens  Manufacturing|Medical|Medical Devices   \n",
       "2  Reviva Pharmaceuticals                          Biotechnology   \n",
       "3    Sancilio and Company                            Health Care   \n",
       "4     WireTough Cylinders                          Manufacturing   \n",
       "\n",
       "   funding_total_usd     status country_code state_code       region  \\\n",
       "0           828626.0  operating          CHE         25       Zurich   \n",
       "1         42935019.0  operating          USA         CA  SF Bay Area   \n",
       "2         35456381.0  operating          USA         CA  SF Bay Area   \n",
       "3         22250000.0  operating          NaN        NaN          NaN   \n",
       "4                NaN  operating          USA         VA   VA - Other   \n",
       "\n",
       "           city  funding_rounds  founded_at first_funding_at last_funding_at  \\\n",
       "0        Zürich               2  2009-12-31       2011-05-01      2014-12-01   \n",
       "1  Redwood City               4  2005-01-01       2010-05-04      2014-02-25   \n",
       "2      San Jose               3  2006-01-01       2012-08-20      2014-07-02   \n",
       "3           NaN               3  2004-01-01       2011-09-01      2014-07-18   \n",
       "4       Bristol               1  2010-09-30       2012-02-01      2012-02-01   \n",
       "\n",
       "  closed_at  \n",
       "0       NaN  \n",
       "1       NaN  \n",
       "2       NaN  \n",
       "3       NaN  \n",
       "4       NaN  "
      ]
     },
     "execution_count": 34,
     "metadata": {},
     "output_type": "execute_result"
    }
   ],
   "source": [
    "#Загрузка тренировочной выборки:\n",
    "kaggle_startups_train = pd.read_csv('C:\\Phyton\\startups\\kaggle_startups_train_27042024.csv')\n",
    "kaggle_startups_train['category_list'].fillna('', inplace=True)\n",
    "#Выгрузим первые 5 строк:\n",
    "kaggle_startups_train.head()"
   ]
  },
  {
   "cell_type": "code",
   "execution_count": 35,
   "metadata": {},
   "outputs": [
    {
     "data": {
      "text/html": [
       "<div>\n",
       "<style scoped>\n",
       "    .dataframe tbody tr th:only-of-type {\n",
       "        vertical-align: middle;\n",
       "    }\n",
       "\n",
       "    .dataframe tbody tr th {\n",
       "        vertical-align: top;\n",
       "    }\n",
       "\n",
       "    .dataframe thead th {\n",
       "        text-align: right;\n",
       "    }\n",
       "</style>\n",
       "<table border=\"1\" class=\"dataframe\">\n",
       "  <thead>\n",
       "    <tr style=\"text-align: right;\">\n",
       "      <th></th>\n",
       "      <th>name</th>\n",
       "      <th>category_list</th>\n",
       "      <th>funding_total_usd</th>\n",
       "      <th>country_code</th>\n",
       "      <th>state_code</th>\n",
       "      <th>region</th>\n",
       "      <th>city</th>\n",
       "      <th>funding_rounds</th>\n",
       "      <th>founded_at</th>\n",
       "      <th>first_funding_at</th>\n",
       "      <th>last_funding_at</th>\n",
       "      <th>lifetime</th>\n",
       "    </tr>\n",
       "  </thead>\n",
       "  <tbody>\n",
       "    <tr>\n",
       "      <th>0</th>\n",
       "      <td>Crystalsol</td>\n",
       "      <td>Clean Technology</td>\n",
       "      <td>2819200.0</td>\n",
       "      <td>NIC</td>\n",
       "      <td>17</td>\n",
       "      <td>NaN</td>\n",
       "      <td>NaN</td>\n",
       "      <td>1</td>\n",
       "      <td>2008-06-01</td>\n",
       "      <td>2009-07-01</td>\n",
       "      <td>2009-07-01</td>\n",
       "      <td>3501</td>\n",
       "    </tr>\n",
       "    <tr>\n",
       "      <th>1</th>\n",
       "      <td>JBI Fish &amp; Wings</td>\n",
       "      <td>Hospitality</td>\n",
       "      <td>NaN</td>\n",
       "      <td>USA</td>\n",
       "      <td>TN</td>\n",
       "      <td>TN - Other</td>\n",
       "      <td>Humboldt</td>\n",
       "      <td>1</td>\n",
       "      <td>2010-07-25</td>\n",
       "      <td>2010-07-28</td>\n",
       "      <td>2010-07-28</td>\n",
       "      <td>2717</td>\n",
       "    </tr>\n",
       "    <tr>\n",
       "      <th>2</th>\n",
       "      <td>COINPLUS</td>\n",
       "      <td>Finance</td>\n",
       "      <td>428257.0</td>\n",
       "      <td>LUX</td>\n",
       "      <td>3</td>\n",
       "      <td>Esch-sur-alzette</td>\n",
       "      <td>Esch-sur-alzette</td>\n",
       "      <td>2</td>\n",
       "      <td>2014-06-16</td>\n",
       "      <td>2014-05-15</td>\n",
       "      <td>2014-09-18</td>\n",
       "      <td>1295</td>\n",
       "    </tr>\n",
       "    <tr>\n",
       "      <th>3</th>\n",
       "      <td>Imagine Communications</td>\n",
       "      <td>Software|Video|Video Streaming</td>\n",
       "      <td>34700000.0</td>\n",
       "      <td>USA</td>\n",
       "      <td>CA</td>\n",
       "      <td>San Diego</td>\n",
       "      <td>San Diego</td>\n",
       "      <td>4</td>\n",
       "      <td>2005-01-01</td>\n",
       "      <td>2005-01-01</td>\n",
       "      <td>2010-04-20</td>\n",
       "      <td>4748</td>\n",
       "    </tr>\n",
       "    <tr>\n",
       "      <th>4</th>\n",
       "      <td>DNA13</td>\n",
       "      <td>Software</td>\n",
       "      <td>4530000.0</td>\n",
       "      <td>CAN</td>\n",
       "      <td>ON</td>\n",
       "      <td>Ottawa</td>\n",
       "      <td>Ottawa</td>\n",
       "      <td>1</td>\n",
       "      <td>2001-01-01</td>\n",
       "      <td>2007-05-08</td>\n",
       "      <td>2007-05-08</td>\n",
       "      <td>6209</td>\n",
       "    </tr>\n",
       "  </tbody>\n",
       "</table>\n",
       "</div>"
      ],
      "text/plain": [
       "                     name                   category_list  funding_total_usd  \\\n",
       "0              Crystalsol                Clean Technology          2819200.0   \n",
       "1        JBI Fish & Wings                     Hospitality                NaN   \n",
       "2                COINPLUS                         Finance           428257.0   \n",
       "3  Imagine Communications  Software|Video|Video Streaming         34700000.0   \n",
       "4                   DNA13                        Software          4530000.0   \n",
       "\n",
       "  country_code state_code            region              city  funding_rounds  \\\n",
       "0          NIC         17               NaN               NaN               1   \n",
       "1          USA         TN        TN - Other          Humboldt               1   \n",
       "2          LUX          3  Esch-sur-alzette  Esch-sur-alzette               2   \n",
       "3          USA         CA         San Diego         San Diego               4   \n",
       "4          CAN         ON            Ottawa            Ottawa               1   \n",
       "\n",
       "   founded_at first_funding_at last_funding_at  lifetime  \n",
       "0  2008-06-01       2009-07-01      2009-07-01      3501  \n",
       "1  2010-07-25       2010-07-28      2010-07-28      2717  \n",
       "2  2014-06-16       2014-05-15      2014-09-18      1295  \n",
       "3  2005-01-01       2005-01-01      2010-04-20      4748  \n",
       "4  2001-01-01       2007-05-08      2007-05-08      6209  "
      ]
     },
     "execution_count": 35,
     "metadata": {},
     "output_type": "execute_result"
    }
   ],
   "source": [
    "#Загрузка входных признаков тестовой выборки:\n",
    "#Выгрузим первые 5 строк:\n",
    "kaggle_startups_test = pd.read_csv('C:\\Phyton\\startups\\kaggle_startups_test_27042024.csv')\n",
    "#Выгрузим первые 5 строк:\n",
    "kaggle_startups_test.head()"
   ]
  },
  {
   "cell_type": "code",
   "execution_count": 36,
   "metadata": {},
   "outputs": [
    {
     "name": "stdout",
     "output_type": "stream",
     "text": [
      "Размерность файла kaggle_startups_train (52514, 13)\n",
      "Размерность файла kaggle_startups_test (13125, 12)\n"
     ]
    }
   ],
   "source": [
    "print('Размерность файла kaggle_startups_train', kaggle_startups_train.shape)\n",
    "print('Размерность файла kaggle_startups_test', kaggle_startups_test.shape)"
   ]
  },
  {
   "cell_type": "markdown",
   "metadata": {},
   "source": [
    "В тренировочной выборке 52514 строк и 13 столбцов; в тестовой выборке - 13125 строк и 12 столбцов.\\\n",
    "Целевым признаком является status - Статус стартапа (закрыт или действующий).\\\n",
    "В тестовой выборке есть показатель lifetime - время существования стартапа в днях, в то время как в тренировочной выборке такого показателя нет. Но на основе показателей closed_at и founded_at найдем lifetime. В случае, если closed_at не заполнен, укажем дату формирования выгрузки - '2018-01-01'."
   ]
  },
  {
   "cell_type": "markdown",
   "metadata": {},
   "source": [
    "## Предобработка данных"
   ]
  },
  {
   "cell_type": "code",
   "execution_count": 37,
   "metadata": {},
   "outputs": [
    {
     "data": {
      "text/plain": [
       "Index(['name', 'category_list', 'funding_total_usd', 'status', 'country_code',\n",
       "       'state_code', 'region', 'city', 'funding_rounds', 'founded_at',\n",
       "       'first_funding_at', 'last_funding_at', 'closed_at'],\n",
       "      dtype='object')"
      ]
     },
     "execution_count": 37,
     "metadata": {},
     "output_type": "execute_result"
    }
   ],
   "source": [
    "#Названия столбцов файла kaggle_startups_train:\n",
    "kaggle_startups_train.columns"
   ]
  },
  {
   "cell_type": "code",
   "execution_count": 38,
   "metadata": {},
   "outputs": [
    {
     "data": {
      "text/plain": [
       "Index(['name', 'category_list', 'funding_total_usd', 'country_code',\n",
       "       'state_code', 'region', 'city', 'funding_rounds', 'founded_at',\n",
       "       'first_funding_at', 'last_funding_at', 'lifetime'],\n",
       "      dtype='object')"
      ]
     },
     "execution_count": 38,
     "metadata": {},
     "output_type": "execute_result"
    }
   ],
   "source": [
    "#Названия столбцов файла kaggle_startups_test:\n",
    "kaggle_startups_test.columns"
   ]
  },
  {
   "cell_type": "markdown",
   "metadata": {},
   "source": [
    "Названия столбцов записаны верно.\\\n",
    "Выведим основную информацию по файлам и проверим корректность типов данных в них."
   ]
  },
  {
   "cell_type": "code",
   "execution_count": 39,
   "metadata": {},
   "outputs": [
    {
     "name": "stdout",
     "output_type": "stream",
     "text": [
      "<class 'pandas.core.frame.DataFrame'>\n",
      "RangeIndex: 52514 entries, 0 to 52513\n",
      "Data columns (total 13 columns):\n",
      " #   Column             Non-Null Count  Dtype  \n",
      "---  ------             --------------  -----  \n",
      " 0   name               52513 non-null  object \n",
      " 1   category_list      52514 non-null  object \n",
      " 2   funding_total_usd  42445 non-null  float64\n",
      " 3   status             52514 non-null  object \n",
      " 4   country_code       47013 non-null  object \n",
      " 5   state_code         45752 non-null  object \n",
      " 6   region             46156 non-null  object \n",
      " 7   city               46156 non-null  object \n",
      " 8   funding_rounds     52514 non-null  int64  \n",
      " 9   founded_at         52514 non-null  object \n",
      " 10  first_funding_at   52514 non-null  object \n",
      " 11  last_funding_at    52514 non-null  object \n",
      " 12  closed_at          4915 non-null   object \n",
      "dtypes: float64(1), int64(1), object(11)\n",
      "memory usage: 5.2+ MB\n"
     ]
    }
   ],
   "source": [
    "kaggle_startups_train.info()"
   ]
  },
  {
   "cell_type": "code",
   "execution_count": 40,
   "metadata": {},
   "outputs": [
    {
     "name": "stdout",
     "output_type": "stream",
     "text": [
      "<class 'pandas.core.frame.DataFrame'>\n",
      "RangeIndex: 13125 entries, 0 to 13124\n",
      "Data columns (total 12 columns):\n",
      " #   Column             Non-Null Count  Dtype  \n",
      "---  ------             --------------  -----  \n",
      " 0   name               13125 non-null  object \n",
      " 1   category_list      12534 non-null  object \n",
      " 2   funding_total_usd  10547 non-null  float64\n",
      " 3   country_code       11743 non-null  object \n",
      " 4   state_code         11430 non-null  object \n",
      " 5   region             11536 non-null  object \n",
      " 6   city               11538 non-null  object \n",
      " 7   funding_rounds     13125 non-null  int64  \n",
      " 8   founded_at         13125 non-null  object \n",
      " 9   first_funding_at   13125 non-null  object \n",
      " 10  last_funding_at    13125 non-null  object \n",
      " 11  lifetime           13125 non-null  int64  \n",
      "dtypes: float64(1), int64(2), object(9)\n",
      "memory usage: 1.2+ MB\n"
     ]
    }
   ],
   "source": [
    "kaggle_startups_test.info()"
   ]
  },
  {
   "cell_type": "markdown",
   "metadata": {},
   "source": [
    "Показатели founded_at, first_funding_at, last_funding_at, closed_at имеют тип данных object - строки. С помощью метода to_datetime преобразуем их в формат datetime, заменив сначала пустые значения в closed_at на дату формирования выгрузки ('2018-01-01'). "
   ]
  },
  {
   "cell_type": "code",
   "execution_count": 41,
   "metadata": {},
   "outputs": [],
   "source": [
    "kaggle_startups_train['closed_at'].fillna('2018-01-01', inplace=True)"
   ]
  },
  {
   "cell_type": "code",
   "execution_count": 42,
   "metadata": {},
   "outputs": [
    {
     "name": "stdout",
     "output_type": "stream",
     "text": [
      "<class 'pandas.core.frame.DataFrame'>\n",
      "RangeIndex: 52514 entries, 0 to 52513\n",
      "Data columns (total 13 columns):\n",
      " #   Column             Non-Null Count  Dtype         \n",
      "---  ------             --------------  -----         \n",
      " 0   name               52513 non-null  object        \n",
      " 1   category_list      52514 non-null  object        \n",
      " 2   funding_total_usd  42445 non-null  float64       \n",
      " 3   status             52514 non-null  object        \n",
      " 4   country_code       47013 non-null  object        \n",
      " 5   state_code         45752 non-null  object        \n",
      " 6   region             46156 non-null  object        \n",
      " 7   city               46156 non-null  object        \n",
      " 8   funding_rounds     52514 non-null  int64         \n",
      " 9   founded_at         52514 non-null  datetime64[ns]\n",
      " 10  first_funding_at   52514 non-null  datetime64[ns]\n",
      " 11  last_funding_at    52514 non-null  datetime64[ns]\n",
      " 12  closed_at          52514 non-null  datetime64[ns]\n",
      "dtypes: datetime64[ns](4), float64(1), int64(1), object(7)\n",
      "memory usage: 5.2+ MB\n"
     ]
    }
   ],
   "source": [
    "columns_to_process_train = ['founded_at', 'first_funding_at', 'last_funding_at', 'closed_at']\n",
    "\n",
    "for column in columns_to_process_train:\n",
    "    kaggle_startups_train[column] = pd.to_datetime(kaggle_startups_train[column])\n",
    "\n",
    "#Проверим тип данных после преобразований:\n",
    "kaggle_startups_train.info()"
   ]
  },
  {
   "cell_type": "code",
   "execution_count": 43,
   "metadata": {},
   "outputs": [
    {
     "name": "stdout",
     "output_type": "stream",
     "text": [
      "<class 'pandas.core.frame.DataFrame'>\n",
      "RangeIndex: 13125 entries, 0 to 13124\n",
      "Data columns (total 12 columns):\n",
      " #   Column             Non-Null Count  Dtype         \n",
      "---  ------             --------------  -----         \n",
      " 0   name               13125 non-null  object        \n",
      " 1   category_list      12534 non-null  object        \n",
      " 2   funding_total_usd  10547 non-null  float64       \n",
      " 3   country_code       11743 non-null  object        \n",
      " 4   state_code         11430 non-null  object        \n",
      " 5   region             11536 non-null  object        \n",
      " 6   city               11538 non-null  object        \n",
      " 7   funding_rounds     13125 non-null  int64         \n",
      " 8   founded_at         13125 non-null  datetime64[ns]\n",
      " 9   first_funding_at   13125 non-null  datetime64[ns]\n",
      " 10  last_funding_at    13125 non-null  datetime64[ns]\n",
      " 11  lifetime           13125 non-null  int64         \n",
      "dtypes: datetime64[ns](3), float64(1), int64(2), object(6)\n",
      "memory usage: 1.2+ MB\n"
     ]
    }
   ],
   "source": [
    "columns_to_process_test = ['founded_at', 'first_funding_at', 'last_funding_at']\n",
    "\n",
    "for column in columns_to_process_test:\n",
    "    kaggle_startups_test[column] = pd.to_datetime(kaggle_startups_test[column])\n",
    "\n",
    "#Проверим тип данных после преобразований:\n",
    "kaggle_startups_test.info()"
   ]
  },
  {
   "cell_type": "markdown",
   "metadata": {},
   "source": [
    "Тип данных в файлах изменен корректно.\\\n",
    "Проверим на наличие пропущенных значений в датафреймах."
   ]
  },
  {
   "cell_type": "code",
   "execution_count": 44,
   "metadata": {},
   "outputs": [],
   "source": [
    "#Заменим пропуски в '' на Nan:\n",
    "kaggle_startups_train = kaggle_startups_train.replace('', np.nan)"
   ]
  },
  {
   "cell_type": "code",
   "execution_count": 45,
   "metadata": {},
   "outputs": [
    {
     "data": {
      "text/plain": [
       "name                     1\n",
       "category_list         2465\n",
       "funding_total_usd    10069\n",
       "status                   0\n",
       "country_code          5501\n",
       "state_code            6762\n",
       "region                6358\n",
       "city                  6358\n",
       "funding_rounds           0\n",
       "founded_at               0\n",
       "first_funding_at         0\n",
       "last_funding_at          0\n",
       "closed_at                0\n",
       "dtype: int64"
      ]
     },
     "execution_count": 45,
     "metadata": {},
     "output_type": "execute_result"
    }
   ],
   "source": [
    "kaggle_startups_train.isna().sum()"
   ]
  },
  {
   "cell_type": "markdown",
   "metadata": {},
   "source": [
    "В тренировочной выборке много пропусков. Проверим, есть ли стартапы, о которых отсутствует информация по нескольким показателям одновременно:"
   ]
  },
  {
   "cell_type": "code",
   "execution_count": 46,
   "metadata": {},
   "outputs": [
    {
     "data": {
      "text/html": [
       "<div>\n",
       "<style scoped>\n",
       "    .dataframe tbody tr th:only-of-type {\n",
       "        vertical-align: middle;\n",
       "    }\n",
       "\n",
       "    .dataframe tbody tr th {\n",
       "        vertical-align: top;\n",
       "    }\n",
       "\n",
       "    .dataframe thead th {\n",
       "        text-align: right;\n",
       "    }\n",
       "</style>\n",
       "<table border=\"1\" class=\"dataframe\">\n",
       "  <thead>\n",
       "    <tr style=\"text-align: right;\">\n",
       "      <th></th>\n",
       "      <th>name</th>\n",
       "      <th>category_list</th>\n",
       "      <th>funding_total_usd</th>\n",
       "      <th>status</th>\n",
       "      <th>country_code</th>\n",
       "      <th>state_code</th>\n",
       "      <th>region</th>\n",
       "      <th>city</th>\n",
       "      <th>funding_rounds</th>\n",
       "      <th>founded_at</th>\n",
       "      <th>first_funding_at</th>\n",
       "      <th>last_funding_at</th>\n",
       "      <th>closed_at</th>\n",
       "    </tr>\n",
       "  </thead>\n",
       "  <tbody>\n",
       "    <tr>\n",
       "      <th>16</th>\n",
       "      <td>Salesjob</td>\n",
       "      <td>NaN</td>\n",
       "      <td>NaN</td>\n",
       "      <td>closed</td>\n",
       "      <td>NaN</td>\n",
       "      <td>NaN</td>\n",
       "      <td>NaN</td>\n",
       "      <td>NaN</td>\n",
       "      <td>1</td>\n",
       "      <td>2013-01-01</td>\n",
       "      <td>2013-10-22</td>\n",
       "      <td>2013-10-22</td>\n",
       "      <td>2014-11-02</td>\n",
       "    </tr>\n",
       "    <tr>\n",
       "      <th>24</th>\n",
       "      <td>Savasti</td>\n",
       "      <td>NaN</td>\n",
       "      <td>NaN</td>\n",
       "      <td>closed</td>\n",
       "      <td>NaN</td>\n",
       "      <td>NaN</td>\n",
       "      <td>NaN</td>\n",
       "      <td>NaN</td>\n",
       "      <td>1</td>\n",
       "      <td>2015-01-01</td>\n",
       "      <td>2015-01-01</td>\n",
       "      <td>2015-01-01</td>\n",
       "      <td>2016-02-27</td>\n",
       "    </tr>\n",
       "    <tr>\n",
       "      <th>64</th>\n",
       "      <td>Seamless Logistics</td>\n",
       "      <td>NaN</td>\n",
       "      <td>NaN</td>\n",
       "      <td>operating</td>\n",
       "      <td>NaN</td>\n",
       "      <td>NaN</td>\n",
       "      <td>NaN</td>\n",
       "      <td>NaN</td>\n",
       "      <td>1</td>\n",
       "      <td>2009-02-27</td>\n",
       "      <td>2011-02-01</td>\n",
       "      <td>2011-02-01</td>\n",
       "      <td>2018-01-01</td>\n",
       "    </tr>\n",
       "    <tr>\n",
       "      <th>78</th>\n",
       "      <td>Efficient Photon</td>\n",
       "      <td>NaN</td>\n",
       "      <td>NaN</td>\n",
       "      <td>closed</td>\n",
       "      <td>NaN</td>\n",
       "      <td>NaN</td>\n",
       "      <td>NaN</td>\n",
       "      <td>NaN</td>\n",
       "      <td>1</td>\n",
       "      <td>2011-03-10</td>\n",
       "      <td>2011-09-22</td>\n",
       "      <td>2011-09-22</td>\n",
       "      <td>2012-10-22</td>\n",
       "    </tr>\n",
       "    <tr>\n",
       "      <th>155</th>\n",
       "      <td>Public Post</td>\n",
       "      <td>NaN</td>\n",
       "      <td>NaN</td>\n",
       "      <td>closed</td>\n",
       "      <td>NaN</td>\n",
       "      <td>NaN</td>\n",
       "      <td>NaN</td>\n",
       "      <td>NaN</td>\n",
       "      <td>1</td>\n",
       "      <td>2007-10-15</td>\n",
       "      <td>2008-08-14</td>\n",
       "      <td>2008-08-14</td>\n",
       "      <td>2009-09-01</td>\n",
       "    </tr>\n",
       "    <tr>\n",
       "      <th>158</th>\n",
       "      <td>Little Bird GmbH</td>\n",
       "      <td>NaN</td>\n",
       "      <td>NaN</td>\n",
       "      <td>operating</td>\n",
       "      <td>NaN</td>\n",
       "      <td>NaN</td>\n",
       "      <td>NaN</td>\n",
       "      <td>NaN</td>\n",
       "      <td>1</td>\n",
       "      <td>2009-01-01</td>\n",
       "      <td>2014-10-01</td>\n",
       "      <td>2014-10-01</td>\n",
       "      <td>2018-01-01</td>\n",
       "    </tr>\n",
       "    <tr>\n",
       "      <th>323</th>\n",
       "      <td>Tarantula Labs</td>\n",
       "      <td>NaN</td>\n",
       "      <td>NaN</td>\n",
       "      <td>closed</td>\n",
       "      <td>NaN</td>\n",
       "      <td>NaN</td>\n",
       "      <td>NaN</td>\n",
       "      <td>NaN</td>\n",
       "      <td>1</td>\n",
       "      <td>2015-07-20</td>\n",
       "      <td>2015-08-21</td>\n",
       "      <td>2015-08-21</td>\n",
       "      <td>2016-12-18</td>\n",
       "    </tr>\n",
       "    <tr>\n",
       "      <th>348</th>\n",
       "      <td>Richslide</td>\n",
       "      <td>NaN</td>\n",
       "      <td>NaN</td>\n",
       "      <td>operating</td>\n",
       "      <td>NaN</td>\n",
       "      <td>NaN</td>\n",
       "      <td>NaN</td>\n",
       "      <td>NaN</td>\n",
       "      <td>1</td>\n",
       "      <td>2013-01-01</td>\n",
       "      <td>2014-10-14</td>\n",
       "      <td>2014-10-14</td>\n",
       "      <td>2018-01-01</td>\n",
       "    </tr>\n",
       "    <tr>\n",
       "      <th>394</th>\n",
       "      <td>Live Painter</td>\n",
       "      <td>NaN</td>\n",
       "      <td>NaN</td>\n",
       "      <td>closed</td>\n",
       "      <td>NaN</td>\n",
       "      <td>NaN</td>\n",
       "      <td>NaN</td>\n",
       "      <td>NaN</td>\n",
       "      <td>1</td>\n",
       "      <td>2012-06-10</td>\n",
       "      <td>2014-01-21</td>\n",
       "      <td>2014-01-21</td>\n",
       "      <td>2015-08-30</td>\n",
       "    </tr>\n",
       "    <tr>\n",
       "      <th>438</th>\n",
       "      <td>DiaKine Therapeutics</td>\n",
       "      <td>NaN</td>\n",
       "      <td>NaN</td>\n",
       "      <td>operating</td>\n",
       "      <td>NaN</td>\n",
       "      <td>NaN</td>\n",
       "      <td>NaN</td>\n",
       "      <td>NaN</td>\n",
       "      <td>1</td>\n",
       "      <td>2007-05-09</td>\n",
       "      <td>2008-09-03</td>\n",
       "      <td>2008-09-03</td>\n",
       "      <td>2018-01-01</td>\n",
       "    </tr>\n",
       "  </tbody>\n",
       "</table>\n",
       "</div>"
      ],
      "text/plain": [
       "                     name category_list  funding_total_usd     status  \\\n",
       "16               Salesjob           NaN                NaN     closed   \n",
       "24                Savasti           NaN                NaN     closed   \n",
       "64     Seamless Logistics           NaN                NaN  operating   \n",
       "78       Efficient Photon           NaN                NaN     closed   \n",
       "155           Public Post           NaN                NaN     closed   \n",
       "158      Little Bird GmbH           NaN                NaN  operating   \n",
       "323        Tarantula Labs           NaN                NaN     closed   \n",
       "348             Richslide           NaN                NaN  operating   \n",
       "394          Live Painter           NaN                NaN     closed   \n",
       "438  DiaKine Therapeutics           NaN                NaN  operating   \n",
       "\n",
       "    country_code state_code region city  funding_rounds founded_at  \\\n",
       "16           NaN        NaN    NaN  NaN               1 2013-01-01   \n",
       "24           NaN        NaN    NaN  NaN               1 2015-01-01   \n",
       "64           NaN        NaN    NaN  NaN               1 2009-02-27   \n",
       "78           NaN        NaN    NaN  NaN               1 2011-03-10   \n",
       "155          NaN        NaN    NaN  NaN               1 2007-10-15   \n",
       "158          NaN        NaN    NaN  NaN               1 2009-01-01   \n",
       "323          NaN        NaN    NaN  NaN               1 2015-07-20   \n",
       "348          NaN        NaN    NaN  NaN               1 2013-01-01   \n",
       "394          NaN        NaN    NaN  NaN               1 2012-06-10   \n",
       "438          NaN        NaN    NaN  NaN               1 2007-05-09   \n",
       "\n",
       "    first_funding_at last_funding_at  closed_at  \n",
       "16        2013-10-22      2013-10-22 2014-11-02  \n",
       "24        2015-01-01      2015-01-01 2016-02-27  \n",
       "64        2011-02-01      2011-02-01 2018-01-01  \n",
       "78        2011-09-22      2011-09-22 2012-10-22  \n",
       "155       2008-08-14      2008-08-14 2009-09-01  \n",
       "158       2014-10-01      2014-10-01 2018-01-01  \n",
       "323       2015-08-21      2015-08-21 2016-12-18  \n",
       "348       2014-10-14      2014-10-14 2018-01-01  \n",
       "394       2014-01-21      2014-01-21 2015-08-30  \n",
       "438       2008-09-03      2008-09-03 2018-01-01  "
      ]
     },
     "execution_count": 46,
     "metadata": {},
     "output_type": "execute_result"
    }
   ],
   "source": [
    "train_nan = kaggle_startups_train[(kaggle_startups_train['category_list'].isnull())  & (kaggle_startups_train['funding_total_usd'].isnull())  &\\\n",
    "                                  (kaggle_startups_train['country_code'].isnull()) & (kaggle_startups_train['state_code'].isnull()) &\\\n",
    "                                    (kaggle_startups_train['region'].isnull()) & (kaggle_startups_train['city'].isnull())]\n",
    "train_nan.head(10)"
   ]
  },
  {
   "cell_type": "code",
   "execution_count": 47,
   "metadata": {},
   "outputs": [
    {
     "name": "stdout",
     "output_type": "stream",
     "text": [
      "Количество строк в таблице train_nan: 884\n"
     ]
    }
   ],
   "source": [
    "print('Количество строк в таблице train_nan:', train_nan.shape[0])"
   ]
  },
  {
   "cell_type": "markdown",
   "metadata": {},
   "source": [
    "В тренировочной выборке 884 стартапа (1,68% от всего количества) по которым нет информации по таким показателям, как category_list (список категорий, к которым относится стартап), funding_total_usd (общая сумма финансирования в USD), country_code (код страны), state_code\t(код штата), region (регион), city (город).\\\n",
    "По стартапам из таблицы train_nan известно только status (закрыт или нет), funding_rounds (количество раундов финансирования), founded_at (дата основания), first_funding_at (дата первого раунда финансирования), last_funding_at (дата последнего раунда финансирования), closed_at (дата закрытия стартапа (если применимо)). Т.е. в основном только даные о датах.\\\n",
    "Проверим, есть ли пропуски в данных в тестовой таблице и если есть, то есть такие стартапы, о которых известны только даты их деятельности."
   ]
  },
  {
   "cell_type": "code",
   "execution_count": 48,
   "metadata": {},
   "outputs": [
    {
     "data": {
      "text/plain": [
       "name                    0\n",
       "category_list         591\n",
       "funding_total_usd    2578\n",
       "country_code         1382\n",
       "state_code           1695\n",
       "region               1589\n",
       "city                 1587\n",
       "funding_rounds          0\n",
       "founded_at              0\n",
       "first_funding_at        0\n",
       "last_funding_at         0\n",
       "lifetime                0\n",
       "dtype: int64"
      ]
     },
     "execution_count": 48,
     "metadata": {},
     "output_type": "execute_result"
    }
   ],
   "source": [
    "#Количество пропусков в тестовой выборке:\n",
    "kaggle_startups_test.isna().sum()"
   ]
  },
  {
   "cell_type": "code",
   "execution_count": 49,
   "metadata": {},
   "outputs": [
    {
     "name": "stdout",
     "output_type": "stream",
     "text": [
      "Количество стартапов в тестовой выборке, о которых известны только данные о датах: (224, 12)\n"
     ]
    }
   ],
   "source": [
    "test_null = kaggle_startups_test.query(\"category_list != category_list and funding_total_usd != funding_total_usd and country_code != country_code\\\n",
    "                                       and state_code != state_code and region != region and city != city\")\n",
    "print('Количество стартапов в тестовой выборке, о которых известны только данные о датах:', test_null.shape)"
   ]
  },
  {
   "cell_type": "markdown",
   "metadata": {},
   "source": [
    "Как видим, и в тренировочной выборке и в тестовой присутствует много пропусков в данных. В том числе и пропуски по нескольким показателям одновременно. Стоит отметить, что соотношение пропусков в показателях схожи в обеих выборках.\\\n",
    "В связи с тем, что мы не располагаем иной информацией и мы не можем заполнить пропуски реальными данными. Кроме того, такой объем пропущенных значений нецелесообразно заполнять, например, наиболее частым встречающимся, что приведет к искажению данных. Удалять такие стартапы из тренировочной выборки не будем.\\\n",
    "Заменим \"Nan\" на \"unknown\"  в обоих датафреймах. В показателе funding_total_USD больше 10 тыс. пропусков в тренировочной выборке, что составляет почти 20% от всех данных. Заменим пропуски на медианное значение показателя в обеих выборках. В случае, если показатель имеет большой разброс значений, среднее значение может быть завышенным."
   ]
  },
  {
   "cell_type": "code",
   "execution_count": 50,
   "metadata": {},
   "outputs": [],
   "source": [
    "columns_to_process_nan = ['category_list', 'country_code', 'state_code', 'region', 'city']\n",
    "\n",
    "#Замена значения NaN на \"unknown\" в указанных столбцах в тренировочной выборке:\n",
    "kaggle_startups_train[columns_to_process_nan] = kaggle_startups_train[columns_to_process_nan].fillna(\"unknown\")\n",
    "\n",
    "#Замена значения NaN на \"unknown\" в указанных столбцах в тестовой выборке:\n",
    "kaggle_startups_test[columns_to_process_nan] = kaggle_startups_test[columns_to_process_nan].fillna(\"unknown\")\n",
    "\n",
    "#Замена Nan  в показателе funding_total_usd на среднее значение:\n",
    "kaggle_startups_train['funding_total_usd'].fillna(kaggle_startups_train['funding_total_usd'].median(), inplace=True)\n",
    "kaggle_startups_test['funding_total_usd'].fillna(kaggle_startups_test['funding_total_usd'].median(), inplace=True)"
   ]
  },
  {
   "cell_type": "code",
   "execution_count": 51,
   "metadata": {},
   "outputs": [],
   "source": [
    "#Удалим из тренировочной выборки строку со стартапом, название которого неизвестно:\n",
    "kaggle_startups_train = kaggle_startups_train.dropna(subset=['name'])"
   ]
  },
  {
   "cell_type": "markdown",
   "metadata": {},
   "source": [
    "Проверим на наличие пропущенных значений в обеих выборках после преобразования:"
   ]
  },
  {
   "cell_type": "code",
   "execution_count": 52,
   "metadata": {},
   "outputs": [
    {
     "data": {
      "text/plain": [
       "name                 0\n",
       "category_list        0\n",
       "funding_total_usd    0\n",
       "status               0\n",
       "country_code         0\n",
       "state_code           0\n",
       "region               0\n",
       "city                 0\n",
       "funding_rounds       0\n",
       "founded_at           0\n",
       "first_funding_at     0\n",
       "last_funding_at      0\n",
       "closed_at            0\n",
       "dtype: int64"
      ]
     },
     "execution_count": 52,
     "metadata": {},
     "output_type": "execute_result"
    }
   ],
   "source": [
    "kaggle_startups_train.isna().sum()"
   ]
  },
  {
   "cell_type": "code",
   "execution_count": 53,
   "metadata": {},
   "outputs": [
    {
     "data": {
      "text/plain": [
       "name                 0\n",
       "category_list        0\n",
       "funding_total_usd    0\n",
       "country_code         0\n",
       "state_code           0\n",
       "region               0\n",
       "city                 0\n",
       "funding_rounds       0\n",
       "founded_at           0\n",
       "first_funding_at     0\n",
       "last_funding_at      0\n",
       "lifetime             0\n",
       "dtype: int64"
      ]
     },
     "execution_count": 53,
     "metadata": {},
     "output_type": "execute_result"
    }
   ],
   "source": [
    "kaggle_startups_test.isna().sum()"
   ]
  },
  {
   "cell_type": "markdown",
   "metadata": {},
   "source": [
    "Все пропущенные значения заменены на \"unknown\".\\\n",
    "Проверим датафреймы на наличие дубликатов."
   ]
  },
  {
   "cell_type": "code",
   "execution_count": 54,
   "metadata": {},
   "outputs": [
    {
     "name": "stdout",
     "output_type": "stream",
     "text": [
      "Количество дубликатов в kaggle_startups_train: 0\n",
      "Количество дубликатов в kaggle_startups_test: 0\n"
     ]
    }
   ],
   "source": [
    "print(f'Количество дубликатов в kaggle_startups_train:', kaggle_startups_train.duplicated().sum())\n",
    "print(f'Количество дубликатов в kaggle_startups_test:', kaggle_startups_test.duplicated().sum())"
   ]
  },
  {
   "cell_type": "markdown",
   "metadata": {},
   "source": [
    "Явных дубликатов в таблицах нет. Проверим на наличие неявных дубликатов:"
   ]
  },
  {
   "cell_type": "code",
   "execution_count": 55,
   "metadata": {},
   "outputs": [
    {
     "name": "stdout",
     "output_type": "stream",
     "text": [
      " Уникальные значения показателей в файле kaggle_startups_train\n",
      "\"category_list\": ['Online Reservations|Restaurants' 'Manufacturing|Medical|Medical Devices'\n",
      " 'Biotechnology' ... 'Gambling|Games|Online Gaming|Sports'\n",
      " 'Aerospace|Mobile|Transportation|Travel'\n",
      " 'Online Rental|Parking|Price Comparison']\n",
      "\"country_code\": ['CHE' 'USA' 'unknown' 'GBR' 'RUS' 'ESP' 'FRA' 'SWE' 'IND' 'KOR' 'AUS'\n",
      " 'TWN' 'CHN' 'HUN' 'CAN' 'FIN' 'BRA' 'EGY' 'PRT' 'ISR' 'CHL' 'SVK' 'NLD'\n",
      " 'ARG' 'ARE' 'JPN' 'IRL' 'DEU' 'LBN' 'EST' 'IDN' 'BEL' 'MEX' 'DNK' 'ITA'\n",
      " 'GRC' 'ROM' 'TUR' 'SGP' 'SAU' 'MYS' 'NGA' 'QAT' 'VNM' 'BGR' 'GHA' 'UGA'\n",
      " 'JOR' 'AUT' 'PAK' 'NZL' 'HKG' 'ZAF' 'LVA' 'NOR' 'HRV' 'VEN' 'PER' 'LUX'\n",
      " 'SVN' 'POL' 'PHL' 'NIC' 'CZE' 'ISL' 'PAN' 'URY' 'BGD' 'MCO' 'GTM' 'THA'\n",
      " 'TTO' 'UKR' 'KEN' 'CRI' 'DZA' 'LTU' 'CYM' 'MUS' 'BLR' 'SLV' 'COL' 'MLT'\n",
      " 'PSE' 'BLZ' 'CYP' 'MMR' 'MKD' 'KHM' 'GIB' 'SRB' 'DOM' 'BWA' 'BLM' 'PRY'\n",
      " 'BMU' 'TAN' 'LIE' 'GRD' 'UZB' 'GEO' 'SEN' 'ALB' 'ECU' 'MOZ' 'LKA' 'LAO'\n",
      " 'TUN' 'HND' 'ZWE' 'BAH' 'MDA' 'MAF' 'BHR' 'AZE' 'MAR' 'KWT' 'IRN' 'GGY'\n",
      " 'KNA' 'PRI' 'OMN' 'KAZ' 'JAM' 'NPL' 'ARM' 'TGO' 'RWA' 'BRN' 'JEY' 'SOM'\n",
      " 'CMR' 'MNE' 'SYC' 'ZMB']\n",
      "\"state_code\": ['25' 'CA' 'unknown' 'VA' 'NJ' 'TX' 'OR' 'FL' 'WA' 'NY' 'C7' 'AZ' '91'\n",
      " 'GA' 'MA' 'PA' 'MI' '56' 'MN' 'A8' 'DE' '26' 'Q5' '7' 'RI' '11' 'C5' 'CO'\n",
      " '3' '23' '1' 'ON' 'IL' 'OH' 'K2' '2' '14' '30' 'H9' 'AL' '29' '6' 'NC'\n",
      " '5' '12' '22' 'MD' '48' 'ND' '40' 'K4' 'VT' '16' '4' 'UT' 'IN' '8' '9'\n",
      " '18' 'CT' '13' 'NV' '10' 'B8' '27' '17' 'IA' 'WI' 'L9' 'NM' 'B7' 'MO'\n",
      " 'BC' '21' 'F7' 'ME' 'NH' '35' 'NS' 'C1' 'C3' 'SC' '20' 'TN' 'A6' '51'\n",
      " 'I7' 'LA' 'KS' '42' 'N7' 'U8' 'I2' 'AR' '19' 'NE' '41' 'QC' 'AB' '37'\n",
      " '15' '97' 'V2' 'D2' 'DC' 'A7' 'C9' 'F8' 'Y2' 'B9' 'J7' 'M9' 'G2' 'H3'\n",
      " 'ID' 'NB' '28' 'V8' '34' 'B5' 'F2' 'A9' 'Z7' '53' 'H8' 'MT' 'MB' 'KY'\n",
      " '61' '60' 'B4' 'H7' '82' 'A2' 'C8' 'L3' 'B3' 'D9' 'M3' 'MS' '31' '33'\n",
      " '52' 'HI' 'AK' '78' '72' 'Q4' 'Y4' 'WY' '32' 'E6' 'Q3' 'F9' '24' 'OK'\n",
      " 'X4' '81' 'A1' '86' 'P4' 'E7' 'P9' '73' 'W5' 'D4' 'E9' 'A4' 'I5' 'B2'\n",
      " 'R3' 'N5' '59' 'K7' 'H5' 'H2' 'N3' 'A5' 'T5' 'G5' 'E8' 'SD' '77' '65'\n",
      " '36' 'WV' '68' 'P3' 'X5' '66' 'D8' 'C6' 'M4' '87' '71' 'J2' '83' 'E4'\n",
      " 'P8' '43' 'J6' 'L1' 'E2' 'O2' 'E5' 'F1' 'N2' 'J8' 'B6' 'A3' '46' 'H4'\n",
      " 'G7' 'Y5' 'P6' '55' 'NL' 'X7' 'P5' '54' '58' 'Y7' 'R6' '47' 'U3' 'K3'\n",
      " '88' 'D3' '45' '49' 'F5' 'Y9' 'Y6' 'P1' 'I6' 'VI' 'Z1' 'I4' 'W6' 'SK'\n",
      " 'W1' '50' 'B1' 'W2' 'W9' 'N4' 'V3' 'O1' 'E1' 'T6' 'I9' 'T7' '99' 'N1'\n",
      " '39' 'P2' '57' 'V7' 'Q2' 'K8' 'F4' 'G1' '98' 'D5' 'V1' '38' '44' 'X1'\n",
      " 'J1' 'J9' 'PE' 'Q1' 'Y1' 'L6' 'G8' '89' 'X3' 'T8' 'J4' '62' 'GU' 'W4'\n",
      " 'G3' 'L7' 'U1' 'Z8' 'E3' 'X2' 'M5' '90' 'M2' 'L8' 'V6' 'Q6' 'D6' 'D7'\n",
      " 'M8' 'J3' 'NU' 'V5' 'U6']\n",
      "\"region\": ['Zurich' 'SF Bay Area' 'unknown' ... 'Haywards Heath' 'Herzogenaurach'\n",
      " 'Doncaster']\n",
      "\"city\": ['Zürich' 'Redwood City' 'San Jose' ... 'Circleville' 'Doncaster'\n",
      " 'Centreville']\n"
     ]
    }
   ],
   "source": [
    "#Уникальные значения нечисловых показателей в файле kaggle_startups_train:\n",
    "print(f' Уникальные значения показателей в файле kaggle_startups_train')\n",
    "print(f'\"category_list\":', kaggle_startups_train['category_list'].unique())\n",
    "print(f'\"country_code\":', kaggle_startups_train['country_code'].unique())\n",
    "print(f'\"state_code\":', kaggle_startups_train['state_code'].unique())\n",
    "print(f'\"region\":', kaggle_startups_train['region'].unique())\n",
    "print(f'\"city\":', kaggle_startups_train['city'].unique())"
   ]
  },
  {
   "cell_type": "markdown",
   "metadata": {},
   "source": [
    "Неявные дубликаты есть в показателе category_list, показатель содержит в одной категории несколько обозначений. В дальнейшем постараемся укрупнить категории."
   ]
  },
  {
   "cell_type": "code",
   "execution_count": 56,
   "metadata": {},
   "outputs": [
    {
     "name": "stdout",
     "output_type": "stream",
     "text": [
      " Уникальные значения показателей в файле kaggle_startups_test\n",
      "\"category_list\": ['Clean Technology' 'Hospitality' 'Finance' ...\n",
      " 'Design|E-Commerce|Marketplaces|Printing'\n",
      " 'Advertising Exchanges|Mobile|Mobile Advertising'\n",
      " 'Communications Hardware|Messaging|Mobile|Office Space|Technology|VoIP']\n",
      "\"country_code\": ['NIC' 'USA' 'LUX' 'CAN' 'unknown' 'MYS' 'DEU' 'GBR' 'FRA' 'ITA' 'CHN'\n",
      " 'ARG' 'NLD' 'IRL' 'AUS' 'CHE' 'CHL' 'ESP' 'IND' 'ISR' 'DNK' 'KOR' 'RUS'\n",
      " 'PHL' 'URY' 'SGP' 'BRA' 'EGY' 'MEX' 'POL' 'VNM' 'AUT' 'EST' 'BEL' 'DMA'\n",
      " 'PRT' 'SWE' 'JOR' 'HUN' 'HKG' 'JPN' 'ZAF' 'COL' 'BGR' 'CZE' 'GRC' 'LTU'\n",
      " 'TWN' 'ISL' 'IDN' 'FIN' 'NOR' 'ARE' 'UKR' 'KEN' 'NGA' 'TUR' 'CRI' 'THA'\n",
      " 'CYP' 'ROM' 'MMR' 'VEN' 'BHR' 'NZL' 'SVK' 'CYM' 'LVA' 'MKD' 'PER' 'AZE'\n",
      " 'BWA' 'BGD' 'ZWE' 'CIV' 'LKA' 'SVN' 'SRB' 'BLR' 'TAN' 'SAU' 'GHA' 'CMR'\n",
      " 'TTO' 'PAK' 'BMU' 'PSE' 'UGA' 'MUS' 'JAM' 'LBN' 'ECU' 'PAN' 'GTM' 'HRV'\n",
      " 'BRB' 'ZMB']\n",
      "\"state_code\": ['17' 'TN' '3' 'CA' 'ON' 'unknown' 'VA' 'PA' 'AZ' '14' '7' 'AL' 'MA' 'NY'\n",
      " '16' 'H9' 'GA' 'I9' 'QC' 'FL' 'WA' 'OH' 'CO' 'A8' 'MS' '18' '22' 'DC'\n",
      " 'NC' 'C7' '15' '4' '2' 'TX' '24' '12' '51' '36' 'MO' '5' 'H3' '19' '23'\n",
      " 'NJ' 'MD' 'K2' 'MI' '11' '9' '48' 'D9' 'B3' 'IN' 'KS' '10' 'A6' 'SC' 'UT'\n",
      " 'OR' 'IL' '28' 'BC' '56' '78' 'LA' '1' 'A9' '29' '13' 'RI' 'B6' 'MN' 'U8'\n",
      " 'V2' 'CT' 'KY' 'WI' '26' 'P6' 'NM' '72' 'IA' '8' 'NV' 'E2' 'I2' 'ME' '86'\n",
      " '25' '30' 'B7' 'AB' '40' '60' 'Z3' 'NE' '34' 'Z7' 'A3' '59' 'VT' '52'\n",
      " '35' 'B4' '65' 'Q4' '6' 'NH' 'AR' 'M3' 'I6' 'A7' 'DE' 'NL' 'P4' 'F8' '27'\n",
      " 'C9' '42' 'MB' 'B9' 'I7' '79' 'J8' 'L3' 'J1' 'C3' 'WV' '31' 'MT' '58'\n",
      " 'N7' 'P8' 'F4' '32' 'I5' 'OK' 'W1' '53' 'G8' 'K7' 'T5' 'H2' '20' 'NS'\n",
      " 'E9' 'HI' 'F7' 'F2' '82' 'ND' 'N4' 'B8' '77' 'ID' '21' 'N2' 'X5' 'G2'\n",
      " 'P3' 'E6' '66' 'R3' 'P2' 'N5' 'T6' 'B5' 'A2' '99' 'E4' '41' 'C5' 'T9'\n",
      " 'E7' 'Y6' '81' 'Q5' '61' 'H8' 'D6' '46' 'M4' 'J7' '68' 'Y4' '97' 'X4'\n",
      " 'C2' 'A5' 'G5' 'WY' 'D8' 'G1' '73' 'G4' 'AK' 'L9' 'Y2' '87' 'A4' 'WE'\n",
      " '37' '71' 'F9' 'NB' 'D2' '89' 'J5' 'C6' 'H4' 'D4' 'M9' 'SD' 'L1' 'E5'\n",
      " 'Y9' 'H7' '38' 'V9' '39' 'C8' 'J9' 'O3' 'T7' 'W9' 'VI' '83' 'G7' 'V8'\n",
      " 'B1' 'SK' '75' 'U3' '90' 'W5' 'W3']\n",
      "\"region\": ['unknown' 'TN - Other' 'Esch-sur-alzette' 'San Diego' 'Ottawa'\n",
      " 'Washington, D.C.' 'Allentown' 'Phoenix' 'Kuala Lumpur' 'Cologne'\n",
      " 'Huntsville' 'Boston' 'New York City' 'SF Bay Area' 'Dusseldrof'\n",
      " 'Anaheim' 'Berlin' 'London' 'Ontario - Inland Empire' 'Philadelphia'\n",
      " 'Atlanta' 'Montreal' 'Nashville' 'Palm Beaches' 'Seattle' 'Cleveland'\n",
      " 'Denver' 'Toronto' 'Paris' 'Meridian' 'Miami' 'Terni' 'Beijing'\n",
      " 'Buenos Aires' 'Asheville' 'Los Angeles' 'Coventry' 'NLD - Other' 'Cork'\n",
      " 'Sydney' 'CA - Other' 'Dallas' 'Sarasota - Bradenton' 'Zurich' 'Hangzhou'\n",
      " 'NY - Other' 'Santiago' 'Bormujos' 'New Delhi' 'MO - Other' 'Tel Aviv'\n",
      " 'Ft. Lauderdale' 'Leeds' 'Charlotte' 'Worcester' 'Austin' 'Bangalore'\n",
      " 'Pittsburgh' 'Shanghai' 'Melbourne' 'Newark' 'MD - Other' 'Thame'\n",
      " 'MI - Other' 'Seoul' 'Utrecht' 'Moscow' 'Manila' 'Montevideo' 'Singapore'\n",
      " 'FRA - Other' 'IN - Other' 'Kansas City' 'BRA - Other'\n",
      " 'Palma De Mallorca' 'Cairo' 'SC - Other' 'Salt Lake City'\n",
      " 'Portland, Oregon' 'Santa Barbara' 'AL - Other' 'Chicago' 'Detroit'\n",
      " 'MEX - Other' 'Fort Wayne' 'Kelowna' 'Vancouver' 'Raleigh' 'Indianapolis'\n",
      " 'Barcelona' 'Warsaw' 'FL - Other' 'Sao Paulo' 'Ho Chi Minh' 'Vienna'\n",
      " 'Baton Rouge' 'Baltimore' 'Tallinn' 'Brussels' 'Montpellier' 'Copenhagen'\n",
      " 'Madrid' 'DEU - Other' 'Hilton Head Island' 'Providence' 'MN - Other'\n",
      " 'Mumbai' 'Edinburgh' 'IND - Other' 'DMA - Other'\n",
      " 'Columbia, South Carolina' 'Peoria' 'Glasgow' 'Lisbon' 'Hartford'\n",
      " 'Jacksonville' 'Nanjing' 'Lexington' 'Harrisburg' 'Lansing' 'Madison'\n",
      " 'Stockholm' 'Rochester, New York' 'Tampa' 'Amman' 'Budapest' 'NM - Other'\n",
      " 'Pune' 'RUS - Other' 'Leipzig' 'Springfield, Illinois' 'Des Moines'\n",
      " 'Frankfurt' 'Las Vegas' 'Elmira' 'Amsterdam' 'Burnaby' 'Brisbane'\n",
      " 'St. Louis' 'Lake Tahoe' 'HKG - Other' 'Rome' 'Manchester' 'CHN - Other'\n",
      " 'ME - Other' 'Poznan' 'Naples, Florida' 'Chennai' 'ITA - Other'\n",
      " 'Shenzhen' 'Delhi' 'Columbus, Ohio' 'Calgary' 'DNK - Other' 'Tokyo'\n",
      " 'Haifa' 'Tucson' 'Valencia' 'Dublin' 'Milwaukee' 'AUT - Other'\n",
      " 'GBR - Other' 'Omaha' 'Houston' 'Cape Town' 'Hamburg' 'Bogota' 'Netanya'\n",
      " 'Macclesfield' 'Busan' 'Malaga' 'Chattanooga' 'Rio de Janeiro'\n",
      " 'Sacramento' 'Bristol' 'Knoxville' 'Saint-denis-sur-loire' 'Bilbao'\n",
      " 'Nagpur' 'Florence' 'VT - Other' 'Prague' 'Athens' 'Boulogne'\n",
      " 'Mexico City' 'ARG - Other' 'Vilnius' 'Richmond' 'Minneapolis'\n",
      " 'Bromsgrove' 'Hyderabad' 'Orlando' 'Munich' 'Manchester, New Hampshire'\n",
      " 'Ballerup' 'Hagerstown' 'The Hague' 'Taiwan' 'CHE - Other' 'Fayetteville'\n",
      " 'Reyjavik' 'KY - Other' 'Jakarta' 'Bradford' 'IRL - Other'\n",
      " 'Atlantic City' 'Birmingham' 'Wilmington, Delaware' 'Pensacola' 'Jackson'\n",
      " 'Gothenburg' 'Perth' 'Colorado Springs' 'IL - Other' 'WA - Other'\n",
      " 'Helsinki' 'ON - Other' \"St. John's\" 'NJ - Other' 'Springfield'\n",
      " 'State College' 'Athens, Georgia' 'TX - Other' 'ISR - Other'\n",
      " 'New Orleans' 'Ghaziabad' 'Newbury' 'KS - Other'\n",
      " 'Orange County, California' 'Memphis' 'Hong Kong' 'Watford' 'Malmo'\n",
      " 'Turin' 'Sofia' 'Milan' 'Saskatoon' 'Lyon' 'Cedar Rapids' 'Newcastle'\n",
      " 'POL - Other' 'Oulu' \"Florida's Space Coast\" 'Dubai' 'Nottingham'\n",
      " 'Yucatan' 'Pozuelo De Alarcon' 'NC - Other' 'Odessa' 'Cincinnati'\n",
      " 'Albuquerque' 'WV - Other' 'Greenville - Spartanburg' 'Freiburg'\n",
      " 'DÃºn Laoghaire' 'Oberhaching' 'Hainan' 'Saarbrucken' 'Portsmouth'\n",
      " 'Bozeman' 'Nairobi' 'A Coruna' 'CO - Other' 'AZ - Other' 'Alton Barnes'\n",
      " 'ESP - Other' 'Fresno' 'OH - Other' 'Grand Rapids' 'Chengdu' 'Lagos'\n",
      " 'Middlesbrough' 'AR - Other' 'CZE - Other' 'LabÃ¨ge' 'Halmstad'\n",
      " 'Oklahoma City' 'Modena' 'Rotterdam' 'Cape Cod' 'Cagliari' 'Tulsa'\n",
      " 'Huddersfield' 'Bonn' 'CT - Other' 'Northampton' 'Greensboro' 'Istanbul'\n",
      " 'San Antonio' 'Maple Ridge' 'Brescia' 'Lausanne' 'Long Island' 'Aberdeen'\n",
      " 'Turku' 'Mobile' 'Antwerp' 'Costa Rica' 'Bangkok' 'Lugano' 'Bakersfield'\n",
      " 'Wan Chai' 'Albany, Georgia' 'Dnepropetrovsk' 'Osaka' 'Stavanger'\n",
      " 'MA - Other' 'Surrey' 'Cordoba, ARG' 'Halifax' 'Montpelier' 'Herisau'\n",
      " 'Grand Junction' 'Daresbury' 'Geneva' 'NOR - Other' 'Puteaux' 'Syracuse'\n",
      " 'Quebec City' 'Iasi' 'Honolulu' 'Kolkata' 'CHL - Other' 'Abbotsford'\n",
      " 'Napa Valley' 'Salisbury' 'Fargo' 'Stoke-on-trent' 'VA - Other' 'Venice'\n",
      " 'Yangon' 'Tampere' 'Akron - Canton' 'Louisville' 'Lubbock' 'Villeurbanne'\n",
      " 'PA - Other' 'Cluj-Napoca' 'Krakow' 'Curitiba' 'Boise' 'Zaragoza'\n",
      " 'Buffalo' 'Bahrain' 'Stockport' 'Guangzhou' 'ID - Other'\n",
      " \"Florida's Treasure Coast\" 'St. Cloud' 'Portland, Maine' 'Kalamazoo'\n",
      " 'Cardiff' 'AUS - Other' 'Wroclaw' 'CYP - Other'\n",
      " 'Wilmington - Cape Fear, North Carolina' 'Wellington' 'Leamington Spa'\n",
      " 'Fukuoka' 'Little Rock' 'Cirencester' 'Bratislava' 'JPN - Other'\n",
      " 'Idaho Falls' 'Branson' 'Belfast' 'Ã‡an' 'Cadiz' 'IDN - Other'\n",
      " 'Albany, New York' 'ItÃ¡' 'Warrington' 'Odense' 'Edmonton' 'Dayton'\n",
      " 'Nice' 'Lafayette, Louisiana' 'Nantes' 'Toledo' 'Myrtle Beach' 'Tianjin'\n",
      " 'Gainesville' 'Oslo' 'Linkoping' 'Regensburg' 'PRT - Other'\n",
      " 'Cayman Islands' 'Palm Springs' 'IA - Other' 'Fortaleza' 'MYS - Other'\n",
      " 'Riga' 'Rennes' 'Linz' 'WI - Other' 'Henley On Thames' 'Guangdong'\n",
      " 'Norfolk - Virginia Beach' 'Skopje' 'Kiev' 'Davao' 'Gdynia' 'Roncade'\n",
      " 'Cheltenham' 'Lima' 'Baku' 'Monterrey' 'Bern' 'Lysaker' 'Porto Alegre'\n",
      " 'Auckland' 'Newport' 'Dhaka' 'Harare' 'CIV - Other' 'Bhubaneswar'\n",
      " 'Surabaya' 'Trondheim' 'Biloxi - Gulfport' 'Nuremberg' 'Kochi'\n",
      " 'LA - Other' 'ROM - Other' 'Montreuil' 'Jaipur' 'York' 'Marseille'\n",
      " 'NE - Other' 'KOR - Other' 'Toulouse' 'Sri Lanka' 'Ljubljana' 'Eugene'\n",
      " 'Chiasso' 'Dornbirn' 'FIN - Other' 'SRB - Other' 'Sligo' 'SWE - Other'\n",
      " 'Luxemburg' 'Spokane' 'Tupelo' 'Christchurch' 'Brasilia' 'Liverpool'\n",
      " 'Reno - Sparks' 'Augusta, Maine' 'Blackrock' 'San Luis Obispo'\n",
      " 'CRI - Other' 'THA - Other' 'LUX - Other' 'Harrogate' 'NGA - Other'\n",
      " 'Ankara' 'Chemnitz' 'Palma Del RÃ\\xado' 'Hanoi' 'Rochester, Minnesota'\n",
      " 'Minsk' 'Sandnes' 'MaroÃºli' 'Belgrade' 'Kuopio' 'NS - Other' 'Porto'\n",
      " 'Baar' 'Aix-en-provence' 'AB - Other' 'Caerphilly' 'Ecublens' 'Canberra'\n",
      " 'TZA - Other' 'Magdeburg' 'Abuja' 'Dresden' 'Snodland' 'WY - Other'\n",
      " 'Lancaster' 'Basel' 'Eindhoven' 'Picardie' 'Umea' 'EST - Other'\n",
      " 'Vadodara' 'COL - Other' 'JyvÃ¤skylÃ¤' 'Charleston, South Carolina'\n",
      " 'Napoli' 'El Paso' 'Jeddah' 'Accra' 'Brentford' 'Zhengzhou' 'Martinsried'\n",
      " 'Swindon' 'Bolton Upon Dearne' 'Sundsvall' 'Kolding' 'Vantaa' 'Winnipeg'\n",
      " 'Aarhus' 'Oxton' 'Scranton' 'JOR - Other' 'Reinach' 'Sheung Wan' 'Orsay'\n",
      " 'CMR - Other' 'TTO - Other' 'Castelldefels' 'AK - Other' 'South Grafton'\n",
      " 'Dover' 'Sheffield' 'Campinas' 'GA - Other' 'Jena' 'Kent' 'NV - Other'\n",
      " 'Salerno' 'Youngstown' 'Amersham' 'Kunshan' 'PAK - Other' 'Herlev'\n",
      " 'Bermuda' 'Jerusalem' 'Recife' 'Szczecin' 'Bath' 'UT - Other'\n",
      " 'Fort Saskatchewan' 'ND - Other' 'Binton' 'Fort Collins' 'Bologna'\n",
      " 'Kampala' 'Sacramento Valley' 'Roubaix' 'Yokohama' 'Karachi'\n",
      " 'Moline - Davenport' 'Perm' 'Heathrow' 'Tunbridge Wells' 'Tallahassee'\n",
      " 'HÃ¸rsholm' 'NB - Other' 'GRC - Other' 'Leudelange' 'Roanoke' 'Cheyenne'\n",
      " 'Derby' 'Stratford-upon-avon' 'BC - Other' 'Mauritius' 'Daejeon' 'Annecy'\n",
      " 'Johannesburg' 'Shenyang' 'Verona' 'Penang' 'Sunderland Bridge' 'Ancona'\n",
      " 'Camberley' 'Fuzhou Shi' 'Shreveport' 'Camborne' 'BEL - Other'\n",
      " 'St. Petersburg' 'Delta' 'Ahmedabad' 'Leicester' 'Aurangabad'\n",
      " 'Alexandria' 'Westmount' 'Cannock' 'NL - Other' 'Braunschweig'\n",
      " 'Sioux Falls' 'NH - Other' 'South Bend' 'Gateshead' 'SVK - Other'\n",
      " 'Stuttgart' 'Warwick' 'Bundangdong' 'Valby' 'Essen' 'Monterey'\n",
      " 'Anchorage' 'Frensham' 'Kristiansand' 'Tralee' 'Skien' 'Windsor'\n",
      " 'Spruce Grove' 'JAM - Other' 'Firenze' 'Lahore' 'Beirut' 'MS - Other'\n",
      " 'Ulm' 'Seville' 'Winston-Salem' 'Duluth' 'NZL - Other' 'Seongnam'\n",
      " 'New Bedford' 'Montgomery' 'Vellore' 'San Sebastian ' 'Mohali' 'Missoula'\n",
      " 'Farum' 'Bucharest' 'PHL - Other' 'Traverse City' 'ECU - Other' 'Oviedo'\n",
      " 'Starnberg' 'UKR - Other' 'Hellerup' 'Stafford' 'Bordeaux' 'Cyprus'\n",
      " 'Aalborg' 'Logrono' 'Linlithgow' 'Boston Spa' 'DE - Other' 'EGY - Other'\n",
      " 'Aachen' 'Haryana' 'Daytona Beach' 'Adelaide' 'Newcastle Under Lyme'\n",
      " 'Burleigh Heads' 'Wuhan' 'Panama City' 'Alicante' 'Grenoble' 'QC - Other'\n",
      " 'Guatemala City' 'Green Bay' 'Reggio Nell Emilia' 'Chester' 'Poole'\n",
      " 'Katowice' 'Fort Myers' 'Livingston' 'Crook Of Devon' 'Vail' 'Surbiton'\n",
      " 'PER - Other' 'San SebastiÃ¡n De Los Reyes' 'Rockford' 'Zagreb'\n",
      " 'Leonberg' 'Graz' 'SK - Other' 'Dorval' 'Macon' 'Rimini' 'Novosibirsk'\n",
      " 'Kauai' 'Dundee' 'Osnabruck' 'Knutsford' 'BRB - Other' 'Trento'\n",
      " 'Secunderabad' 'Foshan' 'Abu Dhabi' 'Groningen' 'Durban'\n",
      " 'Nizhniy Novgorod' 'ZMB - Other' 'Holmes Chapel' 'Vejle' 'SVN - Other'\n",
      " 'Bochum' 'NoÃ¡in' 'Douglas' 'Medellin' 'Hubli' 'SÃ¨te'\n",
      " \"Champagne-au-mont-d'or\"]\n",
      "\"city\": ['unknown' 'Humboldt' 'Esch-sur-alzette' ... \"Champagne-au-mont-d'or\"\n",
      " \"Be'er Sheva\" 'Taichung']\n"
     ]
    }
   ],
   "source": [
    "#Уникальные значения нечисловых показателей в файле kaggle_startups_test:\n",
    "print(f' Уникальные значения показателей в файле kaggle_startups_test')\n",
    "print(f'\"category_list\":', kaggle_startups_test['category_list'].unique())\n",
    "print(f'\"country_code\":', kaggle_startups_test['country_code'].unique())\n",
    "print(f'\"state_code\":', kaggle_startups_test['state_code'].unique())\n",
    "print(f'\"region\":', kaggle_startups_test['region'].unique())\n",
    "print(f'\"city\":', kaggle_startups_test['city'].unique())"
   ]
  },
  {
   "cell_type": "markdown",
   "metadata": {},
   "source": [
    "Неявные дубликаты могут содержаться также и в показателе region.\\\n",
    "Приступим к исследовательскому анализу данных."
   ]
  },
  {
   "cell_type": "markdown",
   "metadata": {},
   "source": [
    "## Исследовательский анализ данных"
   ]
  },
  {
   "cell_type": "markdown",
   "metadata": {},
   "source": [
    "Проанализируем информацию, хранящуюся в тренировочной выборке."
   ]
  },
  {
   "cell_type": "code",
   "execution_count": 57,
   "metadata": {},
   "outputs": [
    {
     "data": {
      "text/html": [
       "<div>\n",
       "<style scoped>\n",
       "    .dataframe tbody tr th:only-of-type {\n",
       "        vertical-align: middle;\n",
       "    }\n",
       "\n",
       "    .dataframe tbody tr th {\n",
       "        vertical-align: top;\n",
       "    }\n",
       "\n",
       "    .dataframe thead th {\n",
       "        text-align: right;\n",
       "    }\n",
       "</style>\n",
       "<table border=\"1\" class=\"dataframe\">\n",
       "  <thead>\n",
       "    <tr style=\"text-align: right;\">\n",
       "      <th></th>\n",
       "      <th>name</th>\n",
       "    </tr>\n",
       "    <tr>\n",
       "      <th>category_list</th>\n",
       "      <th></th>\n",
       "    </tr>\n",
       "  </thead>\n",
       "  <tbody>\n",
       "    <tr>\n",
       "      <th>Software</th>\n",
       "      <td>3207</td>\n",
       "    </tr>\n",
       "    <tr>\n",
       "      <th>Biotechnology</th>\n",
       "      <td>2905</td>\n",
       "    </tr>\n",
       "    <tr>\n",
       "      <th>unknown</th>\n",
       "      <td>2465</td>\n",
       "    </tr>\n",
       "    <tr>\n",
       "      <th>E-Commerce</th>\n",
       "      <td>1063</td>\n",
       "    </tr>\n",
       "    <tr>\n",
       "      <th>Mobile</th>\n",
       "      <td>920</td>\n",
       "    </tr>\n",
       "    <tr>\n",
       "      <th>Clean Technology</th>\n",
       "      <td>892</td>\n",
       "    </tr>\n",
       "    <tr>\n",
       "      <th>Curated Web</th>\n",
       "      <td>851</td>\n",
       "    </tr>\n",
       "    <tr>\n",
       "      <th>Health Care</th>\n",
       "      <td>744</td>\n",
       "    </tr>\n",
       "    <tr>\n",
       "      <th>Hardware + Software</th>\n",
       "      <td>733</td>\n",
       "    </tr>\n",
       "    <tr>\n",
       "      <th>Games</th>\n",
       "      <td>681</td>\n",
       "    </tr>\n",
       "    <tr>\n",
       "      <th>Enterprise Software</th>\n",
       "      <td>671</td>\n",
       "    </tr>\n",
       "    <tr>\n",
       "      <th>Health and Wellness</th>\n",
       "      <td>613</td>\n",
       "    </tr>\n",
       "    <tr>\n",
       "      <th>Manufacturing</th>\n",
       "      <td>604</td>\n",
       "    </tr>\n",
       "    <tr>\n",
       "      <th>Advertising</th>\n",
       "      <td>554</td>\n",
       "    </tr>\n",
       "    <tr>\n",
       "      <th>Education</th>\n",
       "      <td>422</td>\n",
       "    </tr>\n",
       "    <tr>\n",
       "      <th>Semiconductors</th>\n",
       "      <td>400</td>\n",
       "    </tr>\n",
       "    <tr>\n",
       "      <th>Real Estate</th>\n",
       "      <td>338</td>\n",
       "    </tr>\n",
       "    <tr>\n",
       "      <th>Finance</th>\n",
       "      <td>338</td>\n",
       "    </tr>\n",
       "    <tr>\n",
       "      <th>Consulting</th>\n",
       "      <td>330</td>\n",
       "    </tr>\n",
       "    <tr>\n",
       "      <th>Social Media</th>\n",
       "      <td>326</td>\n",
       "    </tr>\n",
       "    <tr>\n",
       "      <th>Security</th>\n",
       "      <td>317</td>\n",
       "    </tr>\n",
       "    <tr>\n",
       "      <th>Hospitality</th>\n",
       "      <td>278</td>\n",
       "    </tr>\n",
       "    <tr>\n",
       "      <th>Web Hosting</th>\n",
       "      <td>277</td>\n",
       "    </tr>\n",
       "    <tr>\n",
       "      <th>Analytics</th>\n",
       "      <td>261</td>\n",
       "    </tr>\n",
       "    <tr>\n",
       "      <th>Fashion</th>\n",
       "      <td>254</td>\n",
       "    </tr>\n",
       "    <tr>\n",
       "      <th>Technology</th>\n",
       "      <td>217</td>\n",
       "    </tr>\n",
       "    <tr>\n",
       "      <th>Medical</th>\n",
       "      <td>198</td>\n",
       "    </tr>\n",
       "    <tr>\n",
       "      <th>Travel</th>\n",
       "      <td>190</td>\n",
       "    </tr>\n",
       "    <tr>\n",
       "      <th>Biotechnology|Health Diagnostics</th>\n",
       "      <td>186</td>\n",
       "    </tr>\n",
       "    <tr>\n",
       "      <th>Internet</th>\n",
       "      <td>168</td>\n",
       "    </tr>\n",
       "    <tr>\n",
       "      <th>News</th>\n",
       "      <td>165</td>\n",
       "    </tr>\n",
       "    <tr>\n",
       "      <th>Music</th>\n",
       "      <td>151</td>\n",
       "    </tr>\n",
       "    <tr>\n",
       "      <th>Sports</th>\n",
       "      <td>151</td>\n",
       "    </tr>\n",
       "    <tr>\n",
       "      <th>Apps</th>\n",
       "      <td>142</td>\n",
       "    </tr>\n",
       "    <tr>\n",
       "      <th>Messaging</th>\n",
       "      <td>132</td>\n",
       "    </tr>\n",
       "    <tr>\n",
       "      <th>Pharmaceuticals</th>\n",
       "      <td>130</td>\n",
       "    </tr>\n",
       "    <tr>\n",
       "      <th>EdTech|Education</th>\n",
       "      <td>129</td>\n",
       "    </tr>\n",
       "    <tr>\n",
       "      <th>Medical Devices</th>\n",
       "      <td>128</td>\n",
       "    </tr>\n",
       "    <tr>\n",
       "      <th>Financial Services</th>\n",
       "      <td>128</td>\n",
       "    </tr>\n",
       "    <tr>\n",
       "      <th>Finance|FinTech</th>\n",
       "      <td>123</td>\n",
       "    </tr>\n",
       "    <tr>\n",
       "      <th>Information Technology</th>\n",
       "      <td>123</td>\n",
       "    </tr>\n",
       "    <tr>\n",
       "      <th>Public Relations</th>\n",
       "      <td>117</td>\n",
       "    </tr>\n",
       "    <tr>\n",
       "      <th>Automotive</th>\n",
       "      <td>116</td>\n",
       "    </tr>\n",
       "    <tr>\n",
       "      <th>Entertainment|Games</th>\n",
       "      <td>114</td>\n",
       "    </tr>\n",
       "    <tr>\n",
       "      <th>Search</th>\n",
       "      <td>108</td>\n",
       "    </tr>\n",
       "    <tr>\n",
       "      <th>Transportation</th>\n",
       "      <td>102</td>\n",
       "    </tr>\n",
       "    <tr>\n",
       "      <th>Photography</th>\n",
       "      <td>95</td>\n",
       "    </tr>\n",
       "    <tr>\n",
       "      <th>Biotechnology|Health Care</th>\n",
       "      <td>93</td>\n",
       "    </tr>\n",
       "    <tr>\n",
       "      <th>Nanotechnology</th>\n",
       "      <td>78</td>\n",
       "    </tr>\n",
       "    <tr>\n",
       "      <th>Services</th>\n",
       "      <td>76</td>\n",
       "    </tr>\n",
       "  </tbody>\n",
       "</table>\n",
       "</div>"
      ],
      "text/plain": [
       "                                  name\n",
       "category_list                         \n",
       "Software                          3207\n",
       "Biotechnology                     2905\n",
       "unknown                           2465\n",
       "E-Commerce                        1063\n",
       "Mobile                             920\n",
       "Clean Technology                   892\n",
       "Curated Web                        851\n",
       "Health Care                        744\n",
       "Hardware + Software                733\n",
       "Games                              681\n",
       "Enterprise Software                671\n",
       "Health and Wellness                613\n",
       "Manufacturing                      604\n",
       "Advertising                        554\n",
       "Education                          422\n",
       "Semiconductors                     400\n",
       "Real Estate                        338\n",
       "Finance                            338\n",
       "Consulting                         330\n",
       "Social Media                       326\n",
       "Security                           317\n",
       "Hospitality                        278\n",
       "Web Hosting                        277\n",
       "Analytics                          261\n",
       "Fashion                            254\n",
       "Technology                         217\n",
       "Medical                            198\n",
       "Travel                             190\n",
       "Biotechnology|Health Diagnostics   186\n",
       "Internet                           168\n",
       "News                               165\n",
       "Music                              151\n",
       "Sports                             151\n",
       "Apps                               142\n",
       "Messaging                          132\n",
       "Pharmaceuticals                    130\n",
       "EdTech|Education                   129\n",
       "Medical Devices                    128\n",
       "Financial Services                 128\n",
       "Finance|FinTech                    123\n",
       "Information Technology             123\n",
       "Public Relations                   117\n",
       "Automotive                         116\n",
       "Entertainment|Games                114\n",
       "Search                             108\n",
       "Transportation                     102\n",
       "Photography                         95\n",
       "Biotechnology|Health Care           93\n",
       "Nanotechnology                      78\n",
       "Services                            76"
      ]
     },
     "execution_count": 57,
     "metadata": {},
     "output_type": "execute_result"
    }
   ],
   "source": [
    "#Сводная таблица по количеству стартапов разных категорий:\n",
    "category_pivot_train = kaggle_startups_train.pivot_table(index='category_list', values='name', aggfunc='count').sort_values(by='name', ascending=False)\n",
    "category_pivot_train.query('name >= 10').head(50)"
   ]
  },
  {
   "cell_type": "markdown",
   "metadata": {},
   "source": [
    "В тренировочной выборке больше 22 тыс. уникальных значений категорий, к которым относится стартап. Большая часть из них мультикатегориальна. То есть включает в себя сразу несколько отраслей. "
   ]
  },
  {
   "cell_type": "code",
   "execution_count": 58,
   "metadata": {},
   "outputs": [
    {
     "data": {
      "text/html": [
       "<div>\n",
       "<style scoped>\n",
       "    .dataframe tbody tr th:only-of-type {\n",
       "        vertical-align: middle;\n",
       "    }\n",
       "\n",
       "    .dataframe tbody tr th {\n",
       "        vertical-align: top;\n",
       "    }\n",
       "\n",
       "    .dataframe thead th {\n",
       "        text-align: right;\n",
       "    }\n",
       "</style>\n",
       "<table border=\"1\" class=\"dataframe\">\n",
       "  <thead>\n",
       "    <tr style=\"text-align: right;\">\n",
       "      <th></th>\n",
       "      <th>name</th>\n",
       "    </tr>\n",
       "    <tr>\n",
       "      <th>category_list</th>\n",
       "      <th></th>\n",
       "    </tr>\n",
       "  </thead>\n",
       "  <tbody>\n",
       "    <tr>\n",
       "      <th>Software</th>\n",
       "      <td>775</td>\n",
       "    </tr>\n",
       "    <tr>\n",
       "      <th>Biotechnology</th>\n",
       "      <td>693</td>\n",
       "    </tr>\n",
       "    <tr>\n",
       "      <th>unknown</th>\n",
       "      <td>591</td>\n",
       "    </tr>\n",
       "    <tr>\n",
       "      <th>E-Commerce</th>\n",
       "      <td>263</td>\n",
       "    </tr>\n",
       "    <tr>\n",
       "      <th>Mobile</th>\n",
       "      <td>255</td>\n",
       "    </tr>\n",
       "    <tr>\n",
       "      <th>...</th>\n",
       "      <td>...</td>\n",
       "    </tr>\n",
       "    <tr>\n",
       "      <th>Cloud Computing|Linux|Software</th>\n",
       "      <td>1</td>\n",
       "    </tr>\n",
       "    <tr>\n",
       "      <th>Cloud Computing|Life Sciences|Pharmaceuticals|SaaS|Software Compliance</th>\n",
       "      <td>1</td>\n",
       "    </tr>\n",
       "    <tr>\n",
       "      <th>Cloud Computing|K-12 Education|SaaS|Software</th>\n",
       "      <td>1</td>\n",
       "    </tr>\n",
       "    <tr>\n",
       "      <th>Cloud Computing|Internet|Software</th>\n",
       "      <td>1</td>\n",
       "    </tr>\n",
       "    <tr>\n",
       "      <th>Curated Web|Design|Interface Design|Music|Photography|User Experience Design|Web Design|Web Development|Web Hosting</th>\n",
       "      <td>1</td>\n",
       "    </tr>\n",
       "  </tbody>\n",
       "</table>\n",
       "<p>6207 rows × 1 columns</p>\n",
       "</div>"
      ],
      "text/plain": [
       "                                                    name\n",
       "category_list                                           \n",
       "Software                                             775\n",
       "Biotechnology                                        693\n",
       "unknown                                              591\n",
       "E-Commerce                                           263\n",
       "Mobile                                               255\n",
       "...                                                  ...\n",
       "Cloud Computing|Linux|Software                         1\n",
       "Cloud Computing|Life Sciences|Pharmaceuticals|S...     1\n",
       "Cloud Computing|K-12 Education|SaaS|Software           1\n",
       "Cloud Computing|Internet|Software                      1\n",
       "Curated Web|Design|Interface Design|Music|Photo...     1\n",
       "\n",
       "[6207 rows x 1 columns]"
      ]
     },
     "execution_count": 58,
     "metadata": {},
     "output_type": "execute_result"
    }
   ],
   "source": [
    "#Сводная таблица по количеству стартапов разных категорий для тестовой выборки:\n",
    "category_pivot_test = kaggle_startups_test.pivot_table(index='category_list', values='name', aggfunc='count').sort_values(by='name', ascending=False)\n",
    "category_pivot_test"
   ]
  },
  {
   "cell_type": "markdown",
   "metadata": {},
   "source": [
    "Схожая картина с категориями наблюдается и в тестовой выборке."
   ]
  },
  {
   "cell_type": "code",
   "execution_count": 59,
   "metadata": {},
   "outputs": [
    {
     "data": {
      "text/plain": [
       "count    5.251300e+04\n",
       "mean     1.513311e+07\n",
       "std      1.683514e+08\n",
       "min      1.000000e+00\n",
       "25%      5.300000e+05\n",
       "50%      2.000000e+06\n",
       "75%      6.790000e+06\n",
       "max      3.007950e+10\n",
       "Name: funding_total_usd, dtype: float64"
      ]
     },
     "execution_count": 59,
     "metadata": {},
     "output_type": "execute_result"
    }
   ],
   "source": [
    "kaggle_startups_train['funding_total_usd'].describe()"
   ]
  },
  {
   "cell_type": "markdown",
   "metadata": {},
   "source": [
    "В среднем общая сумма финансирования стартапа составляет 18.249 млн.USD, при стандартном отклонении - 168 млн.USD. Столь большое стандартное отклонение говорит о сильном разбросе данных. При минимальном значении показателя в 1 USD, максимальное значение - 30,079 млрд.USD."
   ]
  },
  {
   "cell_type": "code",
   "execution_count": 60,
   "metadata": {},
   "outputs": [
    {
     "data": {
      "image/png": "[encoded data removed]",
      "text/plain": [
       "<Figure size 1500x400 with 2 Axes>"
      ]
     },
     "metadata": {},
     "output_type": "display_data"
    }
   ],
   "source": [
    "#гистограмма частотности распределения и \"ящик с усами\" для показателя funding_total_usd:\n",
    "fig, axes = plt.subplots(nrows=1, ncols=2, figsize=(15,4))\n",
    "kaggle_startups_train['funding_total_usd'].plot(kind='hist', bins=50, ax=axes[0], grid=True)\n",
    "axes[0].set_title(\"График 1. Гистограмма распр-ия общей суммы финансирования\")\n",
    "axes[0].set_xlabel('Общая сумма финансирования, USD')\n",
    "axes[0].set_ylabel('Количество стартапов')\n",
    "kaggle_startups_train['funding_total_usd'].plot(kind='box', ax=axes[1], grid=True)\n",
    "axes[1].set_title(\"График 2. Разброс общей суммы финансирования\")\n",
    "axes[1].set_ylabel('Общая сумма финансирования, USD')\n",
    "plt.show()"
   ]
  },
  {
   "cell_type": "markdown",
   "metadata": {},
   "source": [
    "\"Ящик с усами\" подтверждает наше предположение о сильном разбросе значений. Гистограмма распределения в данном случае неинформативна.\\\n",
    "Ограничим показатель 50 млн.USD"
   ]
  },
  {
   "cell_type": "code",
   "execution_count": 61,
   "metadata": {},
   "outputs": [
    {
     "data": {
      "image/png": "[encoded data removed]",
      "text/plain": [
       "<Figure size 1500x400 with 2 Axes>"
      ]
     },
     "metadata": {},
     "output_type": "display_data"
    }
   ],
   "source": [
    "train_funding = kaggle_startups_train.query('funding_total_usd <= 50000000')\n",
    "fig, axes = plt.subplots(nrows=1, ncols=2, figsize=(15,4))\n",
    "train_funding['funding_total_usd'].plot(kind='hist', bins=50, ax=axes[0], grid=True)\n",
    "axes[0].set_title(\"График 3. Гистограмма распр-ия общей суммы финансирования\")\n",
    "axes[0].set_xlabel('Общая сумма финансирования, USD')\n",
    "axes[0].set_ylabel('Количество стартапов')\n",
    "train_funding['funding_total_usd'].plot(kind='box', ax=axes[1], grid=True)\n",
    "axes[1].set_title(\"График 4. Разброс общей суммы финансирования\")\n",
    "axes[1].set_ylabel('Общая сумма финансирования, USD')\n",
    "plt.show()"
   ]
  },
  {
   "cell_type": "markdown",
   "metadata": {},
   "source": [
    "На графике 3 видим, что большое количество стартапов имели сумму финансирования меньше 500 тыс. USD, а также больше 10 тыс. стартапов имели общую сумму финансирования чуть меньше 20 млн. USD.\\\n",
    "\"Ящик с усами\" показал, что сумма превышающая 45 млн.USD является аномальным выбросом.\n",
    "\n",
    "Построим гистограмму рассеивания и boxplot для тестовой выборки."
   ]
  },
  {
   "cell_type": "code",
   "execution_count": 62,
   "metadata": {},
   "outputs": [
    {
     "data": {
      "text/plain": [
       "count    1.312500e+04\n",
       "mean     1.369138e+07\n",
       "std      8.282737e+07\n",
       "min      1.000000e+00\n",
       "25%      5.010000e+05\n",
       "50%      2.000000e+06\n",
       "75%      6.513865e+06\n",
       "max      4.715000e+09\n",
       "Name: funding_total_usd, dtype: float64"
      ]
     },
     "execution_count": 62,
     "metadata": {},
     "output_type": "execute_result"
    }
   ],
   "source": [
    "kaggle_startups_test['funding_total_usd'].describe()"
   ]
  },
  {
   "cell_type": "markdown",
   "metadata": {},
   "source": [
    "Медианные значения показателя обеих выборок схожи. В тестовой выборке разброс значений меньше: стандартное отклонение 82 млн.USD против 168 млн.USD в тренировочной выборке. "
   ]
  },
  {
   "cell_type": "code",
   "execution_count": 63,
   "metadata": {},
   "outputs": [
    {
     "data": {
      "image/png": "[encoded data removed]",
      "text/plain": [
       "<Figure size 1500x400 with 2 Axes>"
      ]
     },
     "metadata": {},
     "output_type": "display_data"
    }
   ],
   "source": [
    "#гистограмма частотности распределения и \"ящик с усами\" для показателя funding_total_usd:\n",
    "fig, axes = plt.subplots(nrows=1, ncols=2, figsize=(15,4))\n",
    "kaggle_startups_test['funding_total_usd'].plot(kind='hist', bins=50, ax=axes[0], grid=True)\n",
    "axes[0].set_title(\"График 5. Гистограмма распр-ия общей суммы финансирования\")\n",
    "axes[0].set_xlabel('Общая сумма финансирования, USD')\n",
    "axes[0].set_ylabel('Количество стартапов')\n",
    "kaggle_startups_test['funding_total_usd'].plot(kind='box', ax=axes[1], grid=True)\n",
    "axes[1].set_title(\"График 6. Разброс общей суммы финансирования\")\n",
    "axes[1].set_ylabel('Общая сумма финансирования, USD')\n",
    "plt.show()"
   ]
  },
  {
   "cell_type": "markdown",
   "metadata": {},
   "source": [
    "Ограничим значения показателя 50 млн.USD"
   ]
  },
  {
   "cell_type": "code",
   "execution_count": 64,
   "metadata": {},
   "outputs": [
    {
     "data": {
      "image/png": "[encoded data removed]",
      "text/plain": [
       "<Figure size 1500x400 with 2 Axes>"
      ]
     },
     "metadata": {},
     "output_type": "display_data"
    }
   ],
   "source": [
    "test_funding = kaggle_startups_test.query('funding_total_usd <= 50000000')\n",
    "fig, axes = plt.subplots(nrows=1, ncols=2, figsize=(15,4))\n",
    "test_funding['funding_total_usd'].plot(kind='hist', bins=50, ax=axes[0], grid=True)\n",
    "axes[0].set_title(\"График 7. Гистограмма распр-ия общей суммы финансирования\")\n",
    "axes[0].set_xlabel('Общая сумма финансирования, USD')\n",
    "axes[0].set_ylabel('Количество стартапов')\n",
    "test_funding['funding_total_usd'].plot(kind='box', ax=axes[1], grid=True)\n",
    "axes[1].set_title(\"График 8. Разброс общей суммы финансирования\")\n",
    "axes[1].set_ylabel('Общая сумма финансирования, USD')\n",
    "plt.show()"
   ]
  },
  {
   "cell_type": "markdown",
   "metadata": {},
   "source": [
    "Гистограмма распределения для тестовой выборки схожа с гистограммой распределения для тренировочной выборки."
   ]
  },
  {
   "cell_type": "code",
   "execution_count": 65,
   "metadata": {},
   "outputs": [
    {
     "data": {
      "image/png": "[encoded data removed]",
      "text/plain": [
       "<Figure size 640x480 with 1 Axes>"
      ]
     },
     "metadata": {},
     "output_type": "display_data"
    }
   ],
   "source": [
    "(\n",
    "kaggle_startups_train\n",
    "    .pivot_table(index='status', values='name', aggfunc='count')\n",
    "    .plot(kind='pie',\n",
    "          autopct='%1.2f%%', \n",
    "          textprops={'fontsize':8}, \n",
    "          colors=sns.color_palette('Set2'),\n",
    "          legend=False,\n",
    "          subplots=True,\n",
    "          explode=[0.05, 0.05], \n",
    "          pctdistance=0.80, \n",
    "          fontsize=10,\n",
    "          ylabel=''\n",
    ")\n",
    ")\n",
    "plt.title(\"График 9. Соотн-ие числа закрывшихся стартапов и существующих для тренировочной выборки\", fontsize=10)\n",
    "\n",
    "plt.show()"
   ]
  },
  {
   "cell_type": "markdown",
   "metadata": {},
   "source": [
    "Из 52 тыс. стартапов в тренировочной выборке на начало 2018 года закрыты меньше 10%."
   ]
  },
  {
   "cell_type": "code",
   "execution_count": 66,
   "metadata": {},
   "outputs": [
    {
     "data": {
      "text/html": [
       "<div>\n",
       "<style scoped>\n",
       "    .dataframe tbody tr th:only-of-type {\n",
       "        vertical-align: middle;\n",
       "    }\n",
       "\n",
       "    .dataframe tbody tr th {\n",
       "        vertical-align: top;\n",
       "    }\n",
       "\n",
       "    .dataframe thead th {\n",
       "        text-align: right;\n",
       "    }\n",
       "</style>\n",
       "<table border=\"1\" class=\"dataframe\">\n",
       "  <thead>\n",
       "    <tr style=\"text-align: right;\">\n",
       "      <th></th>\n",
       "      <th>count</th>\n",
       "      <th>percent</th>\n",
       "    </tr>\n",
       "    <tr>\n",
       "      <th>country_code</th>\n",
       "      <th></th>\n",
       "      <th></th>\n",
       "    </tr>\n",
       "  </thead>\n",
       "  <tbody>\n",
       "    <tr>\n",
       "      <th>USA</th>\n",
       "      <td>29700</td>\n",
       "      <td>56.56</td>\n",
       "    </tr>\n",
       "    <tr>\n",
       "      <th>unknown</th>\n",
       "      <td>5501</td>\n",
       "      <td>10.48</td>\n",
       "    </tr>\n",
       "    <tr>\n",
       "      <th>GBR</th>\n",
       "      <td>2925</td>\n",
       "      <td>5.57</td>\n",
       "    </tr>\n",
       "    <tr>\n",
       "      <th>CAN</th>\n",
       "      <td>1540</td>\n",
       "      <td>2.93</td>\n",
       "    </tr>\n",
       "    <tr>\n",
       "      <th>IND</th>\n",
       "      <td>1276</td>\n",
       "      <td>2.43</td>\n",
       "    </tr>\n",
       "    <tr>\n",
       "      <th>CHN</th>\n",
       "      <td>1240</td>\n",
       "      <td>2.36</td>\n",
       "    </tr>\n",
       "    <tr>\n",
       "      <th>FRA</th>\n",
       "      <td>915</td>\n",
       "      <td>1.74</td>\n",
       "    </tr>\n",
       "    <tr>\n",
       "      <th>DEU</th>\n",
       "      <td>834</td>\n",
       "      <td>1.59</td>\n",
       "    </tr>\n",
       "    <tr>\n",
       "      <th>ISR</th>\n",
       "      <td>767</td>\n",
       "      <td>1.46</td>\n",
       "    </tr>\n",
       "    <tr>\n",
       "      <th>ESP</th>\n",
       "      <td>607</td>\n",
       "      <td>1.16</td>\n",
       "    </tr>\n",
       "    <tr>\n",
       "      <th>NLD</th>\n",
       "      <td>380</td>\n",
       "      <td>0.72</td>\n",
       "    </tr>\n",
       "    <tr>\n",
       "      <th>AUS</th>\n",
       "      <td>379</td>\n",
       "      <td>0.72</td>\n",
       "    </tr>\n",
       "    <tr>\n",
       "      <th>SWE</th>\n",
       "      <td>373</td>\n",
       "      <td>0.71</td>\n",
       "    </tr>\n",
       "    <tr>\n",
       "      <th>RUS</th>\n",
       "      <td>369</td>\n",
       "      <td>0.70</td>\n",
       "    </tr>\n",
       "    <tr>\n",
       "      <th>SGP</th>\n",
       "      <td>356</td>\n",
       "      <td>0.68</td>\n",
       "    </tr>\n",
       "    <tr>\n",
       "      <th>BRA</th>\n",
       "      <td>355</td>\n",
       "      <td>0.68</td>\n",
       "    </tr>\n",
       "    <tr>\n",
       "      <th>IRL</th>\n",
       "      <td>352</td>\n",
       "      <td>0.67</td>\n",
       "    </tr>\n",
       "    <tr>\n",
       "      <th>ITA</th>\n",
       "      <td>321</td>\n",
       "      <td>0.61</td>\n",
       "    </tr>\n",
       "    <tr>\n",
       "      <th>JPN</th>\n",
       "      <td>314</td>\n",
       "      <td>0.60</td>\n",
       "    </tr>\n",
       "    <tr>\n",
       "      <th>KOR</th>\n",
       "      <td>300</td>\n",
       "      <td>0.57</td>\n",
       "    </tr>\n",
       "  </tbody>\n",
       "</table>\n",
       "</div>"
      ],
      "text/plain": [
       "              count  percent\n",
       "country_code                \n",
       "USA           29700    56.56\n",
       "unknown        5501    10.48\n",
       "GBR            2925     5.57\n",
       "CAN            1540     2.93\n",
       "IND            1276     2.43\n",
       "CHN            1240     2.36\n",
       "FRA             915     1.74\n",
       "DEU             834     1.59\n",
       "ISR             767     1.46\n",
       "ESP             607     1.16\n",
       "NLD             380     0.72\n",
       "AUS             379     0.72\n",
       "SWE             373     0.71\n",
       "RUS             369     0.70\n",
       "SGP             356     0.68\n",
       "BRA             355     0.68\n",
       "IRL             352     0.67\n",
       "ITA             321     0.61\n",
       "JPN             314     0.60\n",
       "KOR             300     0.57"
      ]
     },
     "execution_count": 66,
     "metadata": {},
     "output_type": "execute_result"
    }
   ],
   "source": [
    "train_country_pivot = kaggle_startups_train.pivot_table(index='country_code', values='name', aggfunc='count').sort_values(by='name', ascending=False)\n",
    "train_country_pivot.columns = ['count']\n",
    "#Рассчитаем процентное соотношение:\n",
    "train_country_pivot['percent'] = train_country_pivot['count']\\\n",
    "                                          .apply(lambda x: x/train_country_pivot['count'].sum()*100).round(2)\n",
    "train_country_pivot.head(20)"
   ]
  },
  {
   "cell_type": "markdown",
   "metadata": {},
   "source": [
    "56.6% всех стартапов в тренировочной выборке открыты в USA. Нет информации о 10,5% стартапах. 5.6% зарегестрированы в United Kingdom, в Canada меньше 3% стартапов. В России зарегестрировано 369 стартапов, что составляет 0,7% тренировочной выборки.\n",
    "\n",
    "Создадим сводную таблицу по странам, в которых зарегестрированы стартапы из тестовой выборки."
   ]
  },
  {
   "cell_type": "code",
   "execution_count": 67,
   "metadata": {},
   "outputs": [
    {
     "data": {
      "text/html": [
       "<div>\n",
       "<style scoped>\n",
       "    .dataframe tbody tr th:only-of-type {\n",
       "        vertical-align: middle;\n",
       "    }\n",
       "\n",
       "    .dataframe tbody tr th {\n",
       "        vertical-align: top;\n",
       "    }\n",
       "\n",
       "    .dataframe thead th {\n",
       "        text-align: right;\n",
       "    }\n",
       "</style>\n",
       "<table border=\"1\" class=\"dataframe\">\n",
       "  <thead>\n",
       "    <tr style=\"text-align: right;\">\n",
       "      <th></th>\n",
       "      <th>count</th>\n",
       "      <th>percent</th>\n",
       "    </tr>\n",
       "    <tr>\n",
       "      <th>country_code</th>\n",
       "      <th></th>\n",
       "      <th></th>\n",
       "    </tr>\n",
       "  </thead>\n",
       "  <tbody>\n",
       "    <tr>\n",
       "      <th>USA</th>\n",
       "      <td>7428</td>\n",
       "      <td>56.59</td>\n",
       "    </tr>\n",
       "    <tr>\n",
       "      <th>unknown</th>\n",
       "      <td>1382</td>\n",
       "      <td>10.53</td>\n",
       "    </tr>\n",
       "    <tr>\n",
       "      <th>GBR</th>\n",
       "      <td>725</td>\n",
       "      <td>5.52</td>\n",
       "    </tr>\n",
       "    <tr>\n",
       "      <th>CAN</th>\n",
       "      <td>369</td>\n",
       "      <td>2.81</td>\n",
       "    </tr>\n",
       "    <tr>\n",
       "      <th>IND</th>\n",
       "      <td>307</td>\n",
       "      <td>2.34</td>\n",
       "    </tr>\n",
       "    <tr>\n",
       "      <th>CHN</th>\n",
       "      <td>301</td>\n",
       "      <td>2.29</td>\n",
       "    </tr>\n",
       "    <tr>\n",
       "      <th>DEU</th>\n",
       "      <td>237</td>\n",
       "      <td>1.81</td>\n",
       "    </tr>\n",
       "    <tr>\n",
       "      <th>FRA</th>\n",
       "      <td>213</td>\n",
       "      <td>1.62</td>\n",
       "    </tr>\n",
       "    <tr>\n",
       "      <th>ISR</th>\n",
       "      <td>190</td>\n",
       "      <td>1.45</td>\n",
       "    </tr>\n",
       "    <tr>\n",
       "      <th>ESP</th>\n",
       "      <td>134</td>\n",
       "      <td>1.02</td>\n",
       "    </tr>\n",
       "    <tr>\n",
       "      <th>AUS</th>\n",
       "      <td>120</td>\n",
       "      <td>0.91</td>\n",
       "    </tr>\n",
       "    <tr>\n",
       "      <th>NLD</th>\n",
       "      <td>112</td>\n",
       "      <td>0.85</td>\n",
       "    </tr>\n",
       "    <tr>\n",
       "      <th>JPN</th>\n",
       "      <td>93</td>\n",
       "      <td>0.71</td>\n",
       "    </tr>\n",
       "    <tr>\n",
       "      <th>SGP</th>\n",
       "      <td>91</td>\n",
       "      <td>0.69</td>\n",
       "    </tr>\n",
       "    <tr>\n",
       "      <th>RUS</th>\n",
       "      <td>87</td>\n",
       "      <td>0.66</td>\n",
       "    </tr>\n",
       "    <tr>\n",
       "      <th>BRA</th>\n",
       "      <td>85</td>\n",
       "      <td>0.65</td>\n",
       "    </tr>\n",
       "    <tr>\n",
       "      <th>IRL</th>\n",
       "      <td>83</td>\n",
       "      <td>0.63</td>\n",
       "    </tr>\n",
       "    <tr>\n",
       "      <th>CHL</th>\n",
       "      <td>80</td>\n",
       "      <td>0.61</td>\n",
       "    </tr>\n",
       "    <tr>\n",
       "      <th>ITA</th>\n",
       "      <td>79</td>\n",
       "      <td>0.60</td>\n",
       "    </tr>\n",
       "    <tr>\n",
       "      <th>SWE</th>\n",
       "      <td>75</td>\n",
       "      <td>0.57</td>\n",
       "    </tr>\n",
       "  </tbody>\n",
       "</table>\n",
       "</div>"
      ],
      "text/plain": [
       "              count  percent\n",
       "country_code                \n",
       "USA            7428    56.59\n",
       "unknown        1382    10.53\n",
       "GBR             725     5.52\n",
       "CAN             369     2.81\n",
       "IND             307     2.34\n",
       "CHN             301     2.29\n",
       "DEU             237     1.81\n",
       "FRA             213     1.62\n",
       "ISR             190     1.45\n",
       "ESP             134     1.02\n",
       "AUS             120     0.91\n",
       "NLD             112     0.85\n",
       "JPN              93     0.71\n",
       "SGP              91     0.69\n",
       "RUS              87     0.66\n",
       "BRA              85     0.65\n",
       "IRL              83     0.63\n",
       "CHL              80     0.61\n",
       "ITA              79     0.60\n",
       "SWE              75     0.57"
      ]
     },
     "execution_count": 67,
     "metadata": {},
     "output_type": "execute_result"
    }
   ],
   "source": [
    "test_country_pivot = kaggle_startups_test.pivot_table(index='country_code', values='name', aggfunc='count').sort_values(by='name', ascending=False)\n",
    "test_country_pivot.columns = ['count']\n",
    "#Рассчитаем процентное соотношение:\n",
    "test_country_pivot['percent'] = test_country_pivot['count']\\\n",
    "                                          .apply(lambda x: x/test_country_pivot['count'].sum()*100).round(2)\n",
    "test_country_pivot.head(20)"
   ]
  },
  {
   "cell_type": "markdown",
   "metadata": {},
   "source": [
    "В процентном соотношении разбивка стран для тестовой выборки схожа с тренировочной выборкой."
   ]
  },
  {
   "cell_type": "code",
   "execution_count": 68,
   "metadata": {},
   "outputs": [],
   "source": [
    "train_funding_rounds_pivot = (\n",
    "    kaggle_startups_train\n",
    "    .pivot_table(index='funding_rounds', values='name', aggfunc='count')\n",
    "    .reset_index()\n",
    "    .rename(columns = {'name': 'count_startups'}))\n",
    "\n",
    "train_funding_rounds_pivot['percent'] = train_funding_rounds_pivot['count_startups']\\\n",
    "                                          .apply(lambda x: x/train_funding_rounds_pivot['count_startups'].sum()*100).round(2)\n",
    "\n",
    "test_funding_rounds_pivot = (\n",
    "    kaggle_startups_test\n",
    "    .pivot_table(index='funding_rounds', values='name', aggfunc='count')\n",
    "    .reset_index()\n",
    "    .rename(columns = {'name': 'count_startups'}))\n",
    "\n",
    "test_funding_rounds_pivot['percent'] = test_funding_rounds_pivot['count_startups']\\\n",
    "                                          .apply(lambda x: x/test_funding_rounds_pivot['count_startups'].sum()*100).round(2)\n"
   ]
  },
  {
   "cell_type": "code",
   "execution_count": 69,
   "metadata": {},
   "outputs": [
    {
     "data": {
      "image/png": "[encoded data removed]",
      "text/plain": [
       "<Figure size 500x700 with 1 Axes>"
      ]
     },
     "metadata": {},
     "output_type": "display_data"
    }
   ],
   "source": [
    "x_train_1 = train_funding_rounds_pivot['percent']\n",
    "y_train_1 = train_funding_rounds_pivot['funding_rounds']\n",
    "\n",
    "x_test_1 = test_funding_rounds_pivot['percent']\n",
    "y_test_1 = test_funding_rounds_pivot['funding_rounds']\n",
    "\n",
    "bw=0.3\n",
    "\n",
    "plt.figure(figsize=(5, 7))\n",
    "\n",
    "# Построение первого графика\n",
    "plt.barh(y_train_1, x_train_1, bw, color='b', alpha=0.6, label='Тренировочная выборка')\n",
    "\n",
    "# Построение второго графика\n",
    "plt.barh(y_test_1+bw, x_test_1, bw, color='r', alpha=0.8, label='Тестовая выборка')\n",
    "\n",
    "plt.yticks(y_train_1)\n",
    "plt.xlabel('Доля стартапов, %')\n",
    "plt.ylabel('Количество раундов финансирования')\n",
    "plt.title('График 10. Соотношение стартапов в зависимости от количества раундов финансирования, %')\n",
    "plt.legend() \n",
    "plt.grid(axis='x')\n",
    "\n",
    "plt.show()\n"
   ]
  },
  {
   "cell_type": "markdown",
   "metadata": {},
   "source": [
    "На графике 10 изображено процентное соотношение стартапов в зависимости от количества раундов финансирования. Как видим, графики практически идентичны, что говорит о том, что обе выборки схожи.\\\n",
    "Примерно 34 тыс. стартапов в тренировочно выборке (65%) имели 1 раунд финансирования. Чуть меньше 10 тыс.стартапов (19%) - 2 раунда финансирования. 4 тыс. стартапов (7%) - 3 раунда финансирования. 19 раундов финансирования имел всего 1 стартап.\n",
    "\n",
    "Создадим новые признаки, указывающие на год жизнедеятельности компаний:"
   ]
  },
  {
   "cell_type": "code",
   "execution_count": 70,
   "metadata": {},
   "outputs": [],
   "source": [
    "kaggle_startups_train['year_founded_at'] = kaggle_startups_train['founded_at'].dt.year\n",
    "kaggle_startups_train['year_first_funding_at'] = kaggle_startups_train['first_funding_at'].dt.year\n",
    "kaggle_startups_train['year_last_funding_at'] = kaggle_startups_train['last_funding_at'].dt.year\n",
    "\n",
    "kaggle_startups_test['year_founded_at'] = kaggle_startups_test['founded_at'].dt.year\n",
    "kaggle_startups_test['year_first_funding_at'] = kaggle_startups_test['first_funding_at'].dt.year\n",
    "kaggle_startups_test['year_last_funding_at'] = kaggle_startups_test['last_funding_at'].dt.year\n"
   ]
  },
  {
   "cell_type": "markdown",
   "metadata": {},
   "source": [
    "Рассчитаем процентное соотношение компаний в обеих выборках в зависимости от года основания:"
   ]
  },
  {
   "cell_type": "code",
   "execution_count": 71,
   "metadata": {},
   "outputs": [],
   "source": [
    "#тренировочная выборка:\n",
    "\n",
    "train_year_founded_at = (\n",
    "    kaggle_startups_train.pivot_table(index='year_founded_at', values='name', aggfunc='count')\n",
    "    .reset_index()\n",
    "    .rename(columns = {'name': 'count_startups'})\n",
    ")\n",
    "train_year_founded_at['percent'] = train_year_founded_at['count_startups']\\\n",
    "                                          .apply(lambda x: x/train_year_founded_at['count_startups'].sum()*100).round(2)\n",
    " #тестовая выборка:\n",
    "test_year_founded_at = (\n",
    "    kaggle_startups_test.pivot_table(index='year_founded_at', values='name', aggfunc='count')\n",
    "    .reset_index()\n",
    "    .rename(columns = {'name': 'count_startups'})\n",
    ")\n",
    "test_year_founded_at['percent'] = test_year_founded_at['count_startups']\\\n",
    "                                          .apply(lambda x: x/test_year_founded_at['count_startups'].sum()*100).round(2)"
   ]
  },
  {
   "cell_type": "markdown",
   "metadata": {},
   "source": [
    "Визуализируем полученную информацию:"
   ]
  },
  {
   "cell_type": "code",
   "execution_count": 72,
   "metadata": {},
   "outputs": [
    {
     "data": {
      "image/png": "[encoded data removed]",
      "text/plain": [
       "<Figure size 700x1500 with 1 Axes>"
      ]
     },
     "metadata": {},
     "output_type": "display_data"
    }
   ],
   "source": [
    "x_train_2 = train_year_founded_at['percent']\n",
    "y_train_2 = train_year_founded_at['year_founded_at']\n",
    "\n",
    "x_test_2 = test_year_founded_at['percent']\n",
    "y_test_2 = test_year_founded_at['year_founded_at']\n",
    "\n",
    "bw=0.3\n",
    "\n",
    "plt.figure(figsize=(7, 15))\n",
    "\n",
    "# Построение первого графика\n",
    "plt.barh(y_train_2, x_train_2, bw, color='b', alpha=0.6, label='Тренировочная выборка')\n",
    "\n",
    "# Построение второго графика\n",
    "plt.barh(y_test_2+bw, x_test_2, bw, color='r', alpha=0.8, label='Тестовая выборка')\n",
    "\n",
    "plt.yticks(y_train_2)\n",
    "plt.xlabel('Доля стартапов, %')\n",
    "plt.ylabel('Год основания стартапа')\n",
    "plt.title('График 11. Соотношение стартапов в зависимости от года их основания, %')\n",
    "plt.legend() \n",
    "plt.grid(axis='x')\n",
    "\n",
    "plt.show()\n"
   ]
  },
  {
   "cell_type": "markdown",
   "metadata": {},
   "source": [
    "Примерно 43% стартапов основаны до 2010 года. Наибольшее количество новых стартапов было открыто в 2012, 2013 годах.\n",
    "\n",
    "В тренировочной выборке создадим столбец 'lifetime' - время существования стартапа в днях."
   ]
  },
  {
   "cell_type": "code",
   "execution_count": 73,
   "metadata": {},
   "outputs": [],
   "source": [
    "kaggle_startups_train['lifetime'] = (kaggle_startups_train['closed_at'] - kaggle_startups_train['founded_at']).dt.days"
   ]
  },
  {
   "cell_type": "code",
   "execution_count": 74,
   "metadata": {},
   "outputs": [
    {
     "data": {
      "text/plain": [
       "count    52513.000000\n",
       "mean      3141.097500\n",
       "std       2147.883071\n",
       "min         17.000000\n",
       "25%       1740.000000\n",
       "50%       2557.000000\n",
       "75%       4018.000000\n",
       "max      17378.000000\n",
       "Name: lifetime, dtype: float64"
      ]
     },
     "execution_count": 74,
     "metadata": {},
     "output_type": "execute_result"
    }
   ],
   "source": [
    "kaggle_startups_train['lifetime'].describe()"
   ]
  },
  {
   "cell_type": "code",
   "execution_count": 75,
   "metadata": {},
   "outputs": [
    {
     "data": {
      "image/png": "[encoded data removed]",
      "text/plain": [
       "<Figure size 1500x400 with 2 Axes>"
      ]
     },
     "metadata": {},
     "output_type": "display_data"
    }
   ],
   "source": [
    "#гистограмма частотности распределения и \"ящик с усами\" для показателя lifetime:\n",
    "fig, axes = plt.subplots(nrows=1, ncols=2, figsize=(15,4))\n",
    "kaggle_startups_train['lifetime'].plot(kind='hist', bins=50, ax=axes[0], grid=True)\n",
    "axes[0].set_title(\"График 12. Гистограмма распр-ия времени жизни стартапов\")\n",
    "axes[0].set_xlabel('Время жизни стартапа, дней')\n",
    "axes[0].set_ylabel('Количество стартапов')\n",
    "kaggle_startups_train['lifetime'].plot(kind='box', ax=axes[1], grid=True)\n",
    "axes[1].set_title(\"График 13. Разброс времени жизни стартапов\")\n",
    "axes[1].set_ylabel('Время жизни стартапов, дней')\n",
    "plt.show()"
   ]
  },
  {
   "cell_type": "markdown",
   "metadata": {},
   "source": [
    "Стандартное отклонение показателя составляет 2147 дней, что говорит о сильном разбросе значений. Медианное значение составляет 2557 дней, при среднем - 3141 дней. Минимальное значение показателя - 17 дней, максимальное 17378 дней или больше 47 лет.\\\n",
    "На графике 13 видим, что нормальным значением lifetime для тренировочной выборки является 7500 дней или 20 лет. Время жизни больше этого периода является аномальным значением."
   ]
  },
  {
   "cell_type": "code",
   "execution_count": 76,
   "metadata": {},
   "outputs": [
    {
     "data": {
      "text/plain": [
       "count    13125.000000\n",
       "mean      3098.205638\n",
       "std       2128.488789\n",
       "min         79.000000\n",
       "25%       1729.000000\n",
       "50%       2526.000000\n",
       "75%       3871.000000\n",
       "max      17167.000000\n",
       "Name: lifetime, dtype: float64"
      ]
     },
     "execution_count": 76,
     "metadata": {},
     "output_type": "execute_result"
    }
   ],
   "source": [
    "kaggle_startups_test['lifetime'].describe()"
   ]
  },
  {
   "cell_type": "code",
   "execution_count": 77,
   "metadata": {},
   "outputs": [
    {
     "data": {
      "image/png": "[encoded data removed]",
      "text/plain": [
       "<Figure size 1500x400 with 2 Axes>"
      ]
     },
     "metadata": {},
     "output_type": "display_data"
    }
   ],
   "source": [
    "#гистограмма частотности распределения и \"ящик с усами\" для показателя lifetime для тестовой выборки:\n",
    "fig, axes = plt.subplots(nrows=1, ncols=2, figsize=(15,4))\n",
    "kaggle_startups_test['lifetime'].plot(kind='hist', bins=50, ax=axes[0], grid=True)\n",
    "axes[0].set_title(\"График 14. Гистограмма распр-ия времени жизни стартапов тестовой выборки\")\n",
    "axes[0].set_xlabel('Время жизни стартапа, дней')\n",
    "axes[0].set_ylabel('Количество стартапов')\n",
    "kaggle_startups_test['lifetime'].plot(kind='box', ax=axes[1], grid=True)\n",
    "axes[1].set_title(\"График 15. Разброс времени жизни стартапов тестовой выборки\")\n",
    "axes[1].set_ylabel('Время жизни стартапов, дней')\n",
    "plt.show()"
   ]
  },
  {
   "cell_type": "markdown",
   "metadata": {},
   "source": [
    "Схожая картина наблюдается и в тестовой выборке. Разброс значений также большой - от 79 до 17167 дней. Медианное значение показателя - 2526 дней или чуть меньше 7 лет.\n",
    "\n",
    "На основе проведенного анализа можем сделать вывод, что тестовая выборка и тренировочная схожи между собой. В данных нет существенных различий в части распределений признаков."
   ]
  },
  {
   "cell_type": "markdown",
   "metadata": {},
   "source": [
    "Построим матрицу корреляции с целью выявить взаимосвязь между признаками в количественном выражении:"
   ]
  },
  {
   "cell_type": "code",
   "execution_count": 78,
   "metadata": {},
   "outputs": [
    {
     "data": {
      "text/plain": [
       "Index(['name', 'category_list', 'funding_total_usd', 'status', 'country_code',\n",
       "       'state_code', 'region', 'city', 'funding_rounds', 'founded_at',\n",
       "       'first_funding_at', 'last_funding_at', 'closed_at', 'year_founded_at',\n",
       "       'year_first_funding_at', 'year_last_funding_at', 'lifetime'],\n",
       "      dtype='object')"
      ]
     },
     "execution_count": 78,
     "metadata": {},
     "output_type": "execute_result"
    }
   ],
   "source": [
    "kaggle_startups_train.columns"
   ]
  },
  {
   "cell_type": "code",
   "execution_count": 110,
   "metadata": {},
   "outputs": [],
   "source": [
    "#отберем показатели, которые войдут в матрицу корреляции:\n",
    "train_columns_1 = ['name', \n",
    "                   'category_list',\n",
    "                   'funding_total_usd',\n",
    "                    'status', \n",
    "                    'city',\n",
    "                    'country_code', \n",
    "                    'funding_rounds', \n",
    "                    'year_founded_at', \n",
    "                    'year_last_funding_at',\n",
    "                    'lifetime']\n",
    "data_train = kaggle_startups_train[train_columns_1]\n",
    "#преобразуем столбец 'name' в индекс:\n",
    "data_train = data_train.set_index('name')"
   ]
  },
  {
   "cell_type": "code",
   "execution_count": 111,
   "metadata": {},
   "outputs": [
    {
     "name": "stderr",
     "output_type": "stream",
     "text": [
      "C:\\Users\\Ноутбуки77ru\\AppData\\Local\\Packages\\PythonSoftwareFoundation.Python.3.11_qbz5n2kfra8p0\\LocalCache\\local-packages\\Python311\\site-packages\\phik\\data_quality.py:59: UserWarning: The number of unique values of variable category_list is large: 22109. Are you sure this is not an interval variable? Analysis for pairs of variables including category_list can be slow.\n",
      "  warnings.warn(\n"
     ]
    },
    {
     "data": {
      "text/plain": [
       "Text(0.5, 1.0, 'График 16. Тепловая карта для матрицы корреляции $\\\\phi_K$ признаков в data_train_1')"
      ]
     },
     "execution_count": 111,
     "metadata": {},
     "output_type": "execute_result"
    },
    {
     "data": {
      "image/png": "[encoded data removed]",
      "text/plain": [
       "<Figure size 700x500 with 2 Axes>"
      ]
     },
     "metadata": {},
     "output_type": "display_data"
    }
   ],
   "source": [
    "# создадим список с наименованиями непрерывных признаков:\n",
    "interval_cols = ['funding_total_usd', 'lifetime']\n",
    "\n",
    "plt.subplots(figsize=(7, 5))\n",
    "sns.heatmap(data_train.drop('city', axis=1).phik_matrix(interval_cols=interval_cols), fmt='.3f', cmap='RdBu_r', annot=True)\n",
    "plt.title('График 16. Тепловая карта для матрицы корреляции $\\phi_K$ признаков в data_train_1', fontsize=12)\n"
   ]
  },
  {
   "cell_type": "markdown",
   "metadata": {},
   "source": [
    "Целевой признак status больше всего коррелирует с показателем lifetime, коэфффициент корреляции 0,536. Показатель status совсем некоррелирует с признаком funding_total_usd, кроме того funding_total_usd мультиколлинеарен с category_list. В дальнейшем создадим синтетический признак на его основе.\\\n",
    "Также признаки lifetime и year_founded_at мультиколлиниарны. Исключим из модели признак year_founded_at, т.к. связь с целевым признаком у него слабая."
   ]
  },
  {
   "cell_type": "code",
   "execution_count": 112,
   "metadata": {},
   "outputs": [],
   "source": [
    "#отберем показатели, которые войдут в data_test:\n",
    "test_columns_1 = ['name', \n",
    "                   'category_list',\n",
    "                   'funding_total_usd',\n",
    "                   'country_code', \n",
    "                   'city',\n",
    "                    'funding_rounds', \n",
    "                    'year_founded_at', \n",
    "                    'year_last_funding_at',\n",
    "                    'lifetime']\n",
    "data_test = kaggle_startups_test[test_columns_1]\n",
    "#преобразуем столбец 'name' в индекс:\n",
    "data_test = data_test.set_index('name')"
   ]
  },
  {
   "cell_type": "markdown",
   "metadata": {},
   "source": [
    "## Создание синтетических признаков"
   ]
  },
  {
   "cell_type": "markdown",
   "metadata": {},
   "source": [
    "На основе признака funding_total_usd введем категориальный признак category_funding_total_usd:\n",
    "- от 0 до 1000000,\n",
    "- от 1.000.000 до 5.000.000,\n",
    "- от 5.000.000 до 10.000.000,\n",
    "- от 10.000.000 до 50.000.000,\n",
    "- от 50.000.000 до 100.000.000,\n",
    "- от 100.000.000 до 200.000.000,\n",
    "- от 200.000.000 до 500.000.000,\n",
    "- от 500.000.000 до 1.000.000.000,\n",
    "- от 1.000.000.000 до 5.000.000.000"
   ]
  },
  {
   "cell_type": "code",
   "execution_count": 113,
   "metadata": {},
   "outputs": [],
   "source": [
    "# Определим интервалы и метки для категорий\n",
    "bins = [0, 1000000, 5000000, 10000000, 50000000, 100000000, 200000000, 500000000, 1000000000, 5000000000]\n",
    "labels = ['0-1M', '1M-5M', '5M-10M', '10M-50M', '50M-100M', '100M-200M', '200M-500M', '500M-1B', '1B-5B']"
   ]
  },
  {
   "cell_type": "code",
   "execution_count": 114,
   "metadata": {},
   "outputs": [
    {
     "data": {
      "text/html": [
       "<div>\n",
       "<style scoped>\n",
       "    .dataframe tbody tr th:only-of-type {\n",
       "        vertical-align: middle;\n",
       "    }\n",
       "\n",
       "    .dataframe tbody tr th {\n",
       "        vertical-align: top;\n",
       "    }\n",
       "\n",
       "    .dataframe thead th {\n",
       "        text-align: right;\n",
       "    }\n",
       "</style>\n",
       "<table border=\"1\" class=\"dataframe\">\n",
       "  <thead>\n",
       "    <tr style=\"text-align: right;\">\n",
       "      <th></th>\n",
       "      <th>category_list</th>\n",
       "      <th>funding_total_usd</th>\n",
       "      <th>status</th>\n",
       "      <th>city</th>\n",
       "      <th>country_code</th>\n",
       "      <th>funding_rounds</th>\n",
       "      <th>year_founded_at</th>\n",
       "      <th>year_last_funding_at</th>\n",
       "      <th>lifetime</th>\n",
       "      <th>category_funding_total_usd</th>\n",
       "    </tr>\n",
       "    <tr>\n",
       "      <th>name</th>\n",
       "      <th></th>\n",
       "      <th></th>\n",
       "      <th></th>\n",
       "      <th></th>\n",
       "      <th></th>\n",
       "      <th></th>\n",
       "      <th></th>\n",
       "      <th></th>\n",
       "      <th></th>\n",
       "      <th></th>\n",
       "    </tr>\n",
       "  </thead>\n",
       "  <tbody>\n",
       "    <tr>\n",
       "      <th>Lunchgate</th>\n",
       "      <td>Online Reservations|Restaurants</td>\n",
       "      <td>828626.0</td>\n",
       "      <td>operating</td>\n",
       "      <td>Zürich</td>\n",
       "      <td>CHE</td>\n",
       "      <td>2</td>\n",
       "      <td>2009</td>\n",
       "      <td>2014</td>\n",
       "      <td>2923</td>\n",
       "      <td>0-1M</td>\n",
       "    </tr>\n",
       "    <tr>\n",
       "      <th>EarLens</th>\n",
       "      <td>Manufacturing|Medical|Medical Devices</td>\n",
       "      <td>42935019.0</td>\n",
       "      <td>operating</td>\n",
       "      <td>Redwood City</td>\n",
       "      <td>USA</td>\n",
       "      <td>4</td>\n",
       "      <td>2005</td>\n",
       "      <td>2014</td>\n",
       "      <td>4748</td>\n",
       "      <td>10M-50M</td>\n",
       "    </tr>\n",
       "    <tr>\n",
       "      <th>Reviva Pharmaceuticals</th>\n",
       "      <td>Biotechnology</td>\n",
       "      <td>35456381.0</td>\n",
       "      <td>operating</td>\n",
       "      <td>San Jose</td>\n",
       "      <td>USA</td>\n",
       "      <td>3</td>\n",
       "      <td>2006</td>\n",
       "      <td>2014</td>\n",
       "      <td>4383</td>\n",
       "      <td>10M-50M</td>\n",
       "    </tr>\n",
       "    <tr>\n",
       "      <th>Sancilio and Company</th>\n",
       "      <td>Health Care</td>\n",
       "      <td>22250000.0</td>\n",
       "      <td>operating</td>\n",
       "      <td>unknown</td>\n",
       "      <td>unknown</td>\n",
       "      <td>3</td>\n",
       "      <td>2004</td>\n",
       "      <td>2014</td>\n",
       "      <td>5114</td>\n",
       "      <td>10M-50M</td>\n",
       "    </tr>\n",
       "    <tr>\n",
       "      <th>WireTough Cylinders</th>\n",
       "      <td>Manufacturing</td>\n",
       "      <td>2000000.0</td>\n",
       "      <td>operating</td>\n",
       "      <td>Bristol</td>\n",
       "      <td>USA</td>\n",
       "      <td>1</td>\n",
       "      <td>2010</td>\n",
       "      <td>2012</td>\n",
       "      <td>2650</td>\n",
       "      <td>1M-5M</td>\n",
       "    </tr>\n",
       "  </tbody>\n",
       "</table>\n",
       "</div>"
      ],
      "text/plain": [
       "                                                category_list  \\\n",
       "name                                                            \n",
       "Lunchgate                     Online Reservations|Restaurants   \n",
       "EarLens                 Manufacturing|Medical|Medical Devices   \n",
       "Reviva Pharmaceuticals                          Biotechnology   \n",
       "Sancilio and Company                              Health Care   \n",
       "WireTough Cylinders                             Manufacturing   \n",
       "\n",
       "                        funding_total_usd     status          city  \\\n",
       "name                                                                 \n",
       "Lunchgate                        828626.0  operating        Zürich   \n",
       "EarLens                        42935019.0  operating  Redwood City   \n",
       "Reviva Pharmaceuticals         35456381.0  operating      San Jose   \n",
       "Sancilio and Company           22250000.0  operating       unknown   \n",
       "WireTough Cylinders             2000000.0  operating       Bristol   \n",
       "\n",
       "                       country_code  funding_rounds  year_founded_at  \\\n",
       "name                                                                   \n",
       "Lunchgate                       CHE               2             2009   \n",
       "EarLens                         USA               4             2005   \n",
       "Reviva Pharmaceuticals          USA               3             2006   \n",
       "Sancilio and Company        unknown               3             2004   \n",
       "WireTough Cylinders             USA               1             2010   \n",
       "\n",
       "                        year_last_funding_at  lifetime  \\\n",
       "name                                                     \n",
       "Lunchgate                               2014      2923   \n",
       "EarLens                                 2014      4748   \n",
       "Reviva Pharmaceuticals                  2014      4383   \n",
       "Sancilio and Company                    2014      5114   \n",
       "WireTough Cylinders                     2012      2650   \n",
       "\n",
       "                       category_funding_total_usd  \n",
       "name                                               \n",
       "Lunchgate                                    0-1M  \n",
       "EarLens                                   10M-50M  \n",
       "Reviva Pharmaceuticals                    10M-50M  \n",
       "Sancilio and Company                      10M-50M  \n",
       "WireTough Cylinders                         1M-5M  "
      ]
     },
     "execution_count": 114,
     "metadata": {},
     "output_type": "execute_result"
    }
   ],
   "source": [
    "# Преобразование числового показателя в категориальный\n",
    "data_train['category_funding_total_usd'] = pd.cut(data_train['funding_total_usd'], bins=bins, labels=labels)\n",
    "data_test['category_funding_total_usd'] = pd.cut(data_test['funding_total_usd'], bins=bins, labels=labels)\n",
    "data_train.head()"
   ]
  },
  {
   "cell_type": "markdown",
   "metadata": {},
   "source": [
    "Введем категориальный признак на основе показателя funding_rounds: category_funding_rounds_usd."
   ]
  },
  {
   "cell_type": "code",
   "execution_count": 115,
   "metadata": {},
   "outputs": [
    {
     "data": {
      "text/plain": [
       "array([ 2,  4,  3,  1,  5,  7,  9,  6,  8, 10, 11, 12, 15, 13, 16, 17, 14,\n",
       "       18, 19], dtype=int64)"
      ]
     },
     "execution_count": 115,
     "metadata": {},
     "output_type": "execute_result"
    }
   ],
   "source": [
    "data_train['funding_rounds'].unique()"
   ]
  },
  {
   "cell_type": "code",
   "execution_count": 116,
   "metadata": {},
   "outputs": [],
   "source": [
    "# Определим интервалы и метки для категорий\n",
    "bins_funding_rounds = [0, 1, 2, 3, 4, 5, 10, 15, 19]\n",
    "labels_funding_rounds = ['1', '2', '3', '4', '5', '5-10', '10-15', '15-19']"
   ]
  },
  {
   "cell_type": "code",
   "execution_count": 117,
   "metadata": {},
   "outputs": [
    {
     "data": {
      "text/html": [
       "<div>\n",
       "<style scoped>\n",
       "    .dataframe tbody tr th:only-of-type {\n",
       "        vertical-align: middle;\n",
       "    }\n",
       "\n",
       "    .dataframe tbody tr th {\n",
       "        vertical-align: top;\n",
       "    }\n",
       "\n",
       "    .dataframe thead th {\n",
       "        text-align: right;\n",
       "    }\n",
       "</style>\n",
       "<table border=\"1\" class=\"dataframe\">\n",
       "  <thead>\n",
       "    <tr style=\"text-align: right;\">\n",
       "      <th></th>\n",
       "      <th>category_list</th>\n",
       "      <th>funding_total_usd</th>\n",
       "      <th>status</th>\n",
       "      <th>city</th>\n",
       "      <th>country_code</th>\n",
       "      <th>funding_rounds</th>\n",
       "      <th>year_founded_at</th>\n",
       "      <th>year_last_funding_at</th>\n",
       "      <th>lifetime</th>\n",
       "      <th>category_funding_total_usd</th>\n",
       "      <th>category_funding_rounds_usd</th>\n",
       "    </tr>\n",
       "    <tr>\n",
       "      <th>name</th>\n",
       "      <th></th>\n",
       "      <th></th>\n",
       "      <th></th>\n",
       "      <th></th>\n",
       "      <th></th>\n",
       "      <th></th>\n",
       "      <th></th>\n",
       "      <th></th>\n",
       "      <th></th>\n",
       "      <th></th>\n",
       "      <th></th>\n",
       "    </tr>\n",
       "  </thead>\n",
       "  <tbody>\n",
       "    <tr>\n",
       "      <th>Lunchgate</th>\n",
       "      <td>Online Reservations|Restaurants</td>\n",
       "      <td>828626.0</td>\n",
       "      <td>operating</td>\n",
       "      <td>Zürich</td>\n",
       "      <td>CHE</td>\n",
       "      <td>2</td>\n",
       "      <td>2009</td>\n",
       "      <td>2014</td>\n",
       "      <td>2923</td>\n",
       "      <td>0-1M</td>\n",
       "      <td>2</td>\n",
       "    </tr>\n",
       "    <tr>\n",
       "      <th>EarLens</th>\n",
       "      <td>Manufacturing|Medical|Medical Devices</td>\n",
       "      <td>42935019.0</td>\n",
       "      <td>operating</td>\n",
       "      <td>Redwood City</td>\n",
       "      <td>USA</td>\n",
       "      <td>4</td>\n",
       "      <td>2005</td>\n",
       "      <td>2014</td>\n",
       "      <td>4748</td>\n",
       "      <td>10M-50M</td>\n",
       "      <td>4</td>\n",
       "    </tr>\n",
       "    <tr>\n",
       "      <th>Reviva Pharmaceuticals</th>\n",
       "      <td>Biotechnology</td>\n",
       "      <td>35456381.0</td>\n",
       "      <td>operating</td>\n",
       "      <td>San Jose</td>\n",
       "      <td>USA</td>\n",
       "      <td>3</td>\n",
       "      <td>2006</td>\n",
       "      <td>2014</td>\n",
       "      <td>4383</td>\n",
       "      <td>10M-50M</td>\n",
       "      <td>3</td>\n",
       "    </tr>\n",
       "    <tr>\n",
       "      <th>Sancilio and Company</th>\n",
       "      <td>Health Care</td>\n",
       "      <td>22250000.0</td>\n",
       "      <td>operating</td>\n",
       "      <td>unknown</td>\n",
       "      <td>unknown</td>\n",
       "      <td>3</td>\n",
       "      <td>2004</td>\n",
       "      <td>2014</td>\n",
       "      <td>5114</td>\n",
       "      <td>10M-50M</td>\n",
       "      <td>3</td>\n",
       "    </tr>\n",
       "    <tr>\n",
       "      <th>WireTough Cylinders</th>\n",
       "      <td>Manufacturing</td>\n",
       "      <td>2000000.0</td>\n",
       "      <td>operating</td>\n",
       "      <td>Bristol</td>\n",
       "      <td>USA</td>\n",
       "      <td>1</td>\n",
       "      <td>2010</td>\n",
       "      <td>2012</td>\n",
       "      <td>2650</td>\n",
       "      <td>1M-5M</td>\n",
       "      <td>1</td>\n",
       "    </tr>\n",
       "  </tbody>\n",
       "</table>\n",
       "</div>"
      ],
      "text/plain": [
       "                                                category_list  \\\n",
       "name                                                            \n",
       "Lunchgate                     Online Reservations|Restaurants   \n",
       "EarLens                 Manufacturing|Medical|Medical Devices   \n",
       "Reviva Pharmaceuticals                          Biotechnology   \n",
       "Sancilio and Company                              Health Care   \n",
       "WireTough Cylinders                             Manufacturing   \n",
       "\n",
       "                        funding_total_usd     status          city  \\\n",
       "name                                                                 \n",
       "Lunchgate                        828626.0  operating        Zürich   \n",
       "EarLens                        42935019.0  operating  Redwood City   \n",
       "Reviva Pharmaceuticals         35456381.0  operating      San Jose   \n",
       "Sancilio and Company           22250000.0  operating       unknown   \n",
       "WireTough Cylinders             2000000.0  operating       Bristol   \n",
       "\n",
       "                       country_code  funding_rounds  year_founded_at  \\\n",
       "name                                                                   \n",
       "Lunchgate                       CHE               2             2009   \n",
       "EarLens                         USA               4             2005   \n",
       "Reviva Pharmaceuticals          USA               3             2006   \n",
       "Sancilio and Company        unknown               3             2004   \n",
       "WireTough Cylinders             USA               1             2010   \n",
       "\n",
       "                        year_last_funding_at  lifetime  \\\n",
       "name                                                     \n",
       "Lunchgate                               2014      2923   \n",
       "EarLens                                 2014      4748   \n",
       "Reviva Pharmaceuticals                  2014      4383   \n",
       "Sancilio and Company                    2014      5114   \n",
       "WireTough Cylinders                     2012      2650   \n",
       "\n",
       "                       category_funding_total_usd category_funding_rounds_usd  \n",
       "name                                                                           \n",
       "Lunchgate                                    0-1M                           2  \n",
       "EarLens                                   10M-50M                           4  \n",
       "Reviva Pharmaceuticals                    10M-50M                           3  \n",
       "Sancilio and Company                      10M-50M                           3  \n",
       "WireTough Cylinders                         1M-5M                           1  "
      ]
     },
     "execution_count": 117,
     "metadata": {},
     "output_type": "execute_result"
    }
   ],
   "source": [
    "# Преобразование числового показателя в категориальный\n",
    "data_train['category_funding_rounds_usd'] = pd.cut(data_train['funding_rounds'], bins=bins_funding_rounds, labels=labels_funding_rounds)\n",
    "data_test['category_funding_rounds_usd'] = pd.cut(data_test['funding_rounds'], bins=bins_funding_rounds, labels=labels_funding_rounds)\n",
    "data_train.head()"
   ]
  },
  {
   "cell_type": "markdown",
   "metadata": {},
   "source": [
    "Создадим показатель continent_code на основе показателя country_code:"
   ]
  },
  {
   "cell_type": "code",
   "execution_count": 118,
   "metadata": {},
   "outputs": [
    {
     "data": {
      "text/html": [
       "<div>\n",
       "<style scoped>\n",
       "    .dataframe tbody tr th:only-of-type {\n",
       "        vertical-align: middle;\n",
       "    }\n",
       "\n",
       "    .dataframe tbody tr th {\n",
       "        vertical-align: top;\n",
       "    }\n",
       "\n",
       "    .dataframe thead th {\n",
       "        text-align: right;\n",
       "    }\n",
       "</style>\n",
       "<table border=\"1\" class=\"dataframe\">\n",
       "  <thead>\n",
       "    <tr style=\"text-align: right;\">\n",
       "      <th></th>\n",
       "      <th>category_list</th>\n",
       "      <th>funding_total_usd</th>\n",
       "      <th>status</th>\n",
       "      <th>city</th>\n",
       "      <th>country_code</th>\n",
       "      <th>funding_rounds</th>\n",
       "      <th>year_founded_at</th>\n",
       "      <th>year_last_funding_at</th>\n",
       "      <th>lifetime</th>\n",
       "      <th>category_funding_total_usd</th>\n",
       "      <th>category_funding_rounds_usd</th>\n",
       "      <th>continent</th>\n",
       "    </tr>\n",
       "    <tr>\n",
       "      <th>name</th>\n",
       "      <th></th>\n",
       "      <th></th>\n",
       "      <th></th>\n",
       "      <th></th>\n",
       "      <th></th>\n",
       "      <th></th>\n",
       "      <th></th>\n",
       "      <th></th>\n",
       "      <th></th>\n",
       "      <th></th>\n",
       "      <th></th>\n",
       "      <th></th>\n",
       "    </tr>\n",
       "  </thead>\n",
       "  <tbody>\n",
       "    <tr>\n",
       "      <th>Lunchgate</th>\n",
       "      <td>Online Reservations|Restaurants</td>\n",
       "      <td>828626.0</td>\n",
       "      <td>operating</td>\n",
       "      <td>Zürich</td>\n",
       "      <td>CHE</td>\n",
       "      <td>2</td>\n",
       "      <td>2009</td>\n",
       "      <td>2014</td>\n",
       "      <td>2923</td>\n",
       "      <td>0-1M</td>\n",
       "      <td>2</td>\n",
       "      <td>Europe</td>\n",
       "    </tr>\n",
       "    <tr>\n",
       "      <th>EarLens</th>\n",
       "      <td>Manufacturing|Medical|Medical Devices</td>\n",
       "      <td>42935019.0</td>\n",
       "      <td>operating</td>\n",
       "      <td>Redwood City</td>\n",
       "      <td>USA</td>\n",
       "      <td>4</td>\n",
       "      <td>2005</td>\n",
       "      <td>2014</td>\n",
       "      <td>4748</td>\n",
       "      <td>10M-50M</td>\n",
       "      <td>4</td>\n",
       "      <td>North America</td>\n",
       "    </tr>\n",
       "    <tr>\n",
       "      <th>Reviva Pharmaceuticals</th>\n",
       "      <td>Biotechnology</td>\n",
       "      <td>35456381.0</td>\n",
       "      <td>operating</td>\n",
       "      <td>San Jose</td>\n",
       "      <td>USA</td>\n",
       "      <td>3</td>\n",
       "      <td>2006</td>\n",
       "      <td>2014</td>\n",
       "      <td>4383</td>\n",
       "      <td>10M-50M</td>\n",
       "      <td>3</td>\n",
       "      <td>North America</td>\n",
       "    </tr>\n",
       "    <tr>\n",
       "      <th>Sancilio and Company</th>\n",
       "      <td>Health Care</td>\n",
       "      <td>22250000.0</td>\n",
       "      <td>operating</td>\n",
       "      <td>unknown</td>\n",
       "      <td>unknown</td>\n",
       "      <td>3</td>\n",
       "      <td>2004</td>\n",
       "      <td>2014</td>\n",
       "      <td>5114</td>\n",
       "      <td>10M-50M</td>\n",
       "      <td>3</td>\n",
       "      <td>unknown</td>\n",
       "    </tr>\n",
       "    <tr>\n",
       "      <th>WireTough Cylinders</th>\n",
       "      <td>Manufacturing</td>\n",
       "      <td>2000000.0</td>\n",
       "      <td>operating</td>\n",
       "      <td>Bristol</td>\n",
       "      <td>USA</td>\n",
       "      <td>1</td>\n",
       "      <td>2010</td>\n",
       "      <td>2012</td>\n",
       "      <td>2650</td>\n",
       "      <td>1M-5M</td>\n",
       "      <td>1</td>\n",
       "      <td>North America</td>\n",
       "    </tr>\n",
       "  </tbody>\n",
       "</table>\n",
       "</div>"
      ],
      "text/plain": [
       "                                                category_list  \\\n",
       "name                                                            \n",
       "Lunchgate                     Online Reservations|Restaurants   \n",
       "EarLens                 Manufacturing|Medical|Medical Devices   \n",
       "Reviva Pharmaceuticals                          Biotechnology   \n",
       "Sancilio and Company                              Health Care   \n",
       "WireTough Cylinders                             Manufacturing   \n",
       "\n",
       "                        funding_total_usd     status          city  \\\n",
       "name                                                                 \n",
       "Lunchgate                        828626.0  operating        Zürich   \n",
       "EarLens                        42935019.0  operating  Redwood City   \n",
       "Reviva Pharmaceuticals         35456381.0  operating      San Jose   \n",
       "Sancilio and Company           22250000.0  operating       unknown   \n",
       "WireTough Cylinders             2000000.0  operating       Bristol   \n",
       "\n",
       "                       country_code  funding_rounds  year_founded_at  \\\n",
       "name                                                                   \n",
       "Lunchgate                       CHE               2             2009   \n",
       "EarLens                         USA               4             2005   \n",
       "Reviva Pharmaceuticals          USA               3             2006   \n",
       "Sancilio and Company        unknown               3             2004   \n",
       "WireTough Cylinders             USA               1             2010   \n",
       "\n",
       "                        year_last_funding_at  lifetime  \\\n",
       "name                                                     \n",
       "Lunchgate                               2014      2923   \n",
       "EarLens                                 2014      4748   \n",
       "Reviva Pharmaceuticals                  2014      4383   \n",
       "Sancilio and Company                    2014      5114   \n",
       "WireTough Cylinders                     2012      2650   \n",
       "\n",
       "                       category_funding_total_usd category_funding_rounds_usd  \\\n",
       "name                                                                            \n",
       "Lunchgate                                    0-1M                           2   \n",
       "EarLens                                   10M-50M                           4   \n",
       "Reviva Pharmaceuticals                    10M-50M                           3   \n",
       "Sancilio and Company                      10M-50M                           3   \n",
       "WireTough Cylinders                         1M-5M                           1   \n",
       "\n",
       "                            continent  \n",
       "name                                   \n",
       "Lunchgate                      Europe  \n",
       "EarLens                 North America  \n",
       "Reviva Pharmaceuticals  North America  \n",
       "Sancilio and Company          unknown  \n",
       "WireTough Cylinders     North America  "
      ]
     },
     "execution_count": 118,
     "metadata": {},
     "output_type": "execute_result"
    }
   ],
   "source": [
    "country_continent_mapping = {\n",
    "    'CHE': 'Europe',\n",
    "    'GBR': 'Europe',\n",
    "    'RUS': 'Europe',\n",
    "    'ESP': 'Europe',\n",
    "    'FRA': 'Europe',\n",
    "    'SWE': 'Europe',\n",
    "    'HUN': 'Europe',\n",
    "    'FIN': 'Europe',\n",
    "    'PRT': 'Europe',\n",
    "    'ISR': 'Europe',\n",
    "    'SVK': 'Europe',\n",
    "    'NLD': 'Europe',\n",
    "    'IRL': 'Europe',\n",
    "    'DEU': 'Europe',\n",
    "    'LBN': 'Europe',\n",
    "    'EST': 'Europe',\n",
    "    'BEL': 'Europe',\n",
    "    'DNK': 'Europe',\n",
    "    'ITA': 'Europe',\n",
    "    'GRC': 'Europe',\n",
    "    'ROM': 'Europe',\n",
    "    'TUR': 'Europe',\n",
    "    'AUT': 'Europe',\n",
    "    'UKR': 'Europe',\n",
    "    'HRV': 'Europe',\n",
    "    'LVA': 'Europe',\n",
    "    'NOR': 'Europe',\n",
    "    'POL': 'Europe',\n",
    "    'CZE': 'Europe',\n",
    "    'ISL': 'Europe',\n",
    "    'MCO': 'Europe',\n",
    "    'LUX': 'Europe',\n",
    "    'SVN': 'Europe',\n",
    "    'LTU': 'Europe',\n",
    "    'CYP': 'Europe',\n",
    "    'BLR': 'Europe',\n",
    "    'MDA': 'Europe',\n",
    "    'MKD': 'Europe',\n",
    "    'USA': 'North America',\n",
    "    'CAN': 'North America',\n",
    "    'IND': 'Asia',\n",
    "    'KOR': 'Asia',\n",
    "    'AUS': 'Asia',\n",
    "    'TWN': 'Asia',\n",
    "    'CHN': 'Asia',\n",
    "    'IDN': 'Asia',\n",
    "    'MYS': 'Asia',\n",
    "    'VNM': 'Asia',\n",
    "    'SGP': 'Asia',\n",
    "    'SAU': 'Asia',\n",
    "    'JPN': 'Asia',\n",
    "    'LKA': 'Asia',\n",
    "    'KAZ': 'Asia',\n",
    "    'EGY': 'Africa',\n",
    "    'ZAF': 'Africa',\n",
    "    'GHA': 'Africa',\n",
    "    'NGA': 'Africa',\n",
    "    'UGA': 'Africa',\n",
    "    'ARE': 'The Middle East',\n",
    "    'LBN': 'The Middle East',\n",
    "    'BRA': 'South America',\n",
    "    'ARG': 'South America',\n",
    "    'unknown': 'unknown'\n",
    "  \n",
    "}\n",
    "\n",
    "# Функция для преобразования кода стран в континент\n",
    "def map_country_to_continent(country_code):\n",
    "    return country_continent_mapping.get(country_code, 'Other')\n",
    "\n",
    "# Применяем функцию к столбцу с кодами стран\n",
    "data_train['continent'] = data_train['country_code'].apply(map_country_to_continent)\n",
    "data_test['continent'] = data_test['country_code'].apply(map_country_to_continent)\n",
    "\n",
    "data_train.head()"
   ]
  },
  {
   "cell_type": "markdown",
   "metadata": {},
   "source": [
    "На основе признака category_list создадим признак category, куда включим основные направления бизнеса:"
   ]
  },
  {
   "cell_type": "code",
   "execution_count": 119,
   "metadata": {},
   "outputs": [
    {
     "data": {
      "text/html": [
       "<div>\n",
       "<style scoped>\n",
       "    .dataframe tbody tr th:only-of-type {\n",
       "        vertical-align: middle;\n",
       "    }\n",
       "\n",
       "    .dataframe tbody tr th {\n",
       "        vertical-align: top;\n",
       "    }\n",
       "\n",
       "    .dataframe thead th {\n",
       "        text-align: right;\n",
       "    }\n",
       "</style>\n",
       "<table border=\"1\" class=\"dataframe\">\n",
       "  <thead>\n",
       "    <tr style=\"text-align: right;\">\n",
       "      <th></th>\n",
       "      <th>category_list</th>\n",
       "      <th>funding_total_usd</th>\n",
       "      <th>status</th>\n",
       "      <th>city</th>\n",
       "      <th>country_code</th>\n",
       "      <th>funding_rounds</th>\n",
       "      <th>year_founded_at</th>\n",
       "      <th>year_last_funding_at</th>\n",
       "      <th>lifetime</th>\n",
       "      <th>category_funding_total_usd</th>\n",
       "      <th>category_funding_rounds_usd</th>\n",
       "      <th>continent</th>\n",
       "      <th>category_new</th>\n",
       "    </tr>\n",
       "    <tr>\n",
       "      <th>name</th>\n",
       "      <th></th>\n",
       "      <th></th>\n",
       "      <th></th>\n",
       "      <th></th>\n",
       "      <th></th>\n",
       "      <th></th>\n",
       "      <th></th>\n",
       "      <th></th>\n",
       "      <th></th>\n",
       "      <th></th>\n",
       "      <th></th>\n",
       "      <th></th>\n",
       "      <th></th>\n",
       "    </tr>\n",
       "  </thead>\n",
       "  <tbody>\n",
       "    <tr>\n",
       "      <th>Lunchgate</th>\n",
       "      <td>Online Reservations|Restaurants</td>\n",
       "      <td>828626.0</td>\n",
       "      <td>operating</td>\n",
       "      <td>Zürich</td>\n",
       "      <td>CHE</td>\n",
       "      <td>2</td>\n",
       "      <td>2009</td>\n",
       "      <td>2014</td>\n",
       "      <td>2923</td>\n",
       "      <td>0-1M</td>\n",
       "      <td>2</td>\n",
       "      <td>Europe</td>\n",
       "      <td>Hotel and Restaurant</td>\n",
       "    </tr>\n",
       "    <tr>\n",
       "      <th>EarLens</th>\n",
       "      <td>Manufacturing|Medical|Medical Devices</td>\n",
       "      <td>42935019.0</td>\n",
       "      <td>operating</td>\n",
       "      <td>Redwood City</td>\n",
       "      <td>USA</td>\n",
       "      <td>4</td>\n",
       "      <td>2005</td>\n",
       "      <td>2014</td>\n",
       "      <td>4748</td>\n",
       "      <td>10M-50M</td>\n",
       "      <td>4</td>\n",
       "      <td>North America</td>\n",
       "      <td>Health</td>\n",
       "    </tr>\n",
       "    <tr>\n",
       "      <th>Reviva Pharmaceuticals</th>\n",
       "      <td>Biotechnology</td>\n",
       "      <td>35456381.0</td>\n",
       "      <td>operating</td>\n",
       "      <td>San Jose</td>\n",
       "      <td>USA</td>\n",
       "      <td>3</td>\n",
       "      <td>2006</td>\n",
       "      <td>2014</td>\n",
       "      <td>4383</td>\n",
       "      <td>10M-50M</td>\n",
       "      <td>3</td>\n",
       "      <td>North America</td>\n",
       "      <td>Health</td>\n",
       "    </tr>\n",
       "    <tr>\n",
       "      <th>Sancilio and Company</th>\n",
       "      <td>Health Care</td>\n",
       "      <td>22250000.0</td>\n",
       "      <td>operating</td>\n",
       "      <td>unknown</td>\n",
       "      <td>unknown</td>\n",
       "      <td>3</td>\n",
       "      <td>2004</td>\n",
       "      <td>2014</td>\n",
       "      <td>5114</td>\n",
       "      <td>10M-50M</td>\n",
       "      <td>3</td>\n",
       "      <td>unknown</td>\n",
       "      <td>Health</td>\n",
       "    </tr>\n",
       "    <tr>\n",
       "      <th>WireTough Cylinders</th>\n",
       "      <td>Manufacturing</td>\n",
       "      <td>2000000.0</td>\n",
       "      <td>operating</td>\n",
       "      <td>Bristol</td>\n",
       "      <td>USA</td>\n",
       "      <td>1</td>\n",
       "      <td>2010</td>\n",
       "      <td>2012</td>\n",
       "      <td>2650</td>\n",
       "      <td>1M-5M</td>\n",
       "      <td>1</td>\n",
       "      <td>North America</td>\n",
       "      <td>Construction</td>\n",
       "    </tr>\n",
       "  </tbody>\n",
       "</table>\n",
       "</div>"
      ],
      "text/plain": [
       "                                                category_list  \\\n",
       "name                                                            \n",
       "Lunchgate                     Online Reservations|Restaurants   \n",
       "EarLens                 Manufacturing|Medical|Medical Devices   \n",
       "Reviva Pharmaceuticals                          Biotechnology   \n",
       "Sancilio and Company                              Health Care   \n",
       "WireTough Cylinders                             Manufacturing   \n",
       "\n",
       "                        funding_total_usd     status          city  \\\n",
       "name                                                                 \n",
       "Lunchgate                        828626.0  operating        Zürich   \n",
       "EarLens                        42935019.0  operating  Redwood City   \n",
       "Reviva Pharmaceuticals         35456381.0  operating      San Jose   \n",
       "Sancilio and Company           22250000.0  operating       unknown   \n",
       "WireTough Cylinders             2000000.0  operating       Bristol   \n",
       "\n",
       "                       country_code  funding_rounds  year_founded_at  \\\n",
       "name                                                                   \n",
       "Lunchgate                       CHE               2             2009   \n",
       "EarLens                         USA               4             2005   \n",
       "Reviva Pharmaceuticals          USA               3             2006   \n",
       "Sancilio and Company        unknown               3             2004   \n",
       "WireTough Cylinders             USA               1             2010   \n",
       "\n",
       "                        year_last_funding_at  lifetime  \\\n",
       "name                                                     \n",
       "Lunchgate                               2014      2923   \n",
       "EarLens                                 2014      4748   \n",
       "Reviva Pharmaceuticals                  2014      4383   \n",
       "Sancilio and Company                    2014      5114   \n",
       "WireTough Cylinders                     2012      2650   \n",
       "\n",
       "                       category_funding_total_usd category_funding_rounds_usd  \\\n",
       "name                                                                            \n",
       "Lunchgate                                    0-1M                           2   \n",
       "EarLens                                   10M-50M                           4   \n",
       "Reviva Pharmaceuticals                    10M-50M                           3   \n",
       "Sancilio and Company                      10M-50M                           3   \n",
       "WireTough Cylinders                         1M-5M                           1   \n",
       "\n",
       "                            continent          category_new  \n",
       "name                                                         \n",
       "Lunchgate                      Europe  Hotel and Restaurant  \n",
       "EarLens                 North America                Health  \n",
       "Reviva Pharmaceuticals  North America                Health  \n",
       "Sancilio and Company          unknown                Health  \n",
       "WireTough Cylinders     North America          Construction  "
      ]
     },
     "execution_count": 119,
     "metadata": {},
     "output_type": "execute_result"
    }
   ],
   "source": [
    "def asscign_category(row):\n",
    "    if '3D' in row['category_list'] or 'Apps' in row['category_list'] or 'Internet' in row['category_list'] or\\\n",
    "        'Mobile' in row['category_list'] or 'App Marketing' in row['category_list'] or 'iPhone' in row['category_list'] or\\\n",
    "            'iPad' in row['category_list'] or 'iOS' in row['category_list'] or 'Wireless' in row['category_list']\\\n",
    "                or 'Web' in row['category_list'] or 'Wearables' in row['category_list'] or 'Virtual' in row['category_list']\\\n",
    "                    or 'Video' in row['category_list'] or 'Utilities' in row['category_list'] or 'Software' in row['category_list']\\\n",
    "                        or 'Semiconductors' in row['category_list'] or 'Messaging' in row['category_list']\\\n",
    "                            or 'Information Technology' in row['category_list'] or 'Search' in row['category_list']\\\n",
    "                                or 'Automotive' in row['category_list'] or 'Consumer Electronics' in row['category_list'] or 'Electronics'\\\n",
    "                                    in row['category_list'] or 'SaaS' in row['category_list']:\n",
    "        return 'IT'\n",
    "    if 'mHealth' in row['category_list'] or 'Veterinary' in row['category_list'] or 'Active Lifestyle' in row['category_list']\\\n",
    "        or 'Medical' in row['category_list'] or 'Health' in row['category_list'] or 'Biotechnology' in row['category_list']\\\n",
    "            or 'Hospitality' in row['category_list'] or 'Pharmaceuticals' in row['category_list']\\\n",
    "                or 'Nanotechnology' in row['category_list'] or 'Hospital' in row['category_list'] or 'Bio-Pharm' in row['category_list']\\\n",
    "                    or 'Environmental Innovation' in row['category_list']:\n",
    "        return 'Health'\n",
    "    if 'Finance' in row['category_list'] or 'Marketing' in row['category_list'] or 'Analytics' in row['category_list']\\\n",
    "        or 'Venture' in row['category_list'] or 'Accounting' in row['category_list'] or 'Consulting' in row['category_list']\\\n",
    "            or 'E-Commerce' in row['category_list'] or 'Financial' in row['category_list'] or 'Transportation' in row['category_list'] or \\\n",
    "                'Legal' in row['category_list'] or 'Banking' in row['category_list']:\n",
    "        return 'Finance'\n",
    "    if 'Sport' in row['category_list']:\n",
    "        return 'Sport'\n",
    "    if 'Tourism' in row['category_list'] or 'Travel' in row['category_list']:\n",
    "        return 'Tourism'\n",
    "    if 'Restaurant' in row['category_list'] or 'Hotel' in row['category_list'] or 'Wine' in row['category_list'] or 'Food' in row['category_list']:\n",
    "        return 'Hotel and Restaurant'\n",
    "    if 'Education' in row['category_list']:\n",
    "        return 'Education'\n",
    "    if 'The Service Sector' in row['category_list'] or 'Sales ' in row['category_list'] or 'Wholesale' in row['category_list']\\\n",
    "        or 'Fitness' in row['category_list'] or 'Ad Targeting' in row['category_list'] or 'Watch' in row['category_list']\\\n",
    "            or 'Clean Technology' in row['category_list'] or 'Advertising Networks' in row['category_list'] or 'Advertising'\\\n",
    "                in row['category_list'] or 'Game' in row['category_list'] or 'Fashion' in row['category_list']\\\n",
    "                    or 'News' in row['category_list'] or 'Music' in row['category_list'] or 'Photography' in row['category_list']\\\n",
    "                        or 'Services' in row['category_list'] or 'Design' in row['category_list'] or 'Entertainment' in row['category_list']\\\n",
    "                            or 'Telecommunications' in row['category_list'] or 'Retail' in row['category_list']\\\n",
    "                                or 'Consumer Goods' in row['category_list'] or 'Marketplaces' in row['category_list'] or 'Pets' in row['category_list']\\\n",
    "                                    or 'Media' in row['category_list'] or 'Logistics' in row['category_list'] or 'Consumers'\\\n",
    "                                        in row['category_list'] or 'Shopping' in row['category_list'] or 'Publishing' in row['category_list']\\\n",
    "                                            or 'Beauty' in row['category_list']:\n",
    "        return 'The sphere of Goods and Services'\n",
    "    if 'Social' in row['category_list'] or 'Wedding' in row['category_list'] or 'Women' in row['category_list']\\\n",
    "        or 'Young Adults' in row['category_list'] or 'Recruiting' in row['category_list'] or 'Public Relations' in row['category_list']\\\n",
    "            or 'Nonprofits' in row['category_list'] or 'Networking' in row['category_list'] or 'Human' in row['category_list']:\n",
    "        return 'Social'\n",
    "    if 'Water' in row['category_list']:\n",
    "        return 'Agricultural'\n",
    "    if 'Advanced Materials' in row['category_list'] or 'Real Estate' in row['category_list'] or 'Manufacturing' in row['category_list']:\n",
    "        return 'Construction'\n",
    "    if 'Security' in row['category_list']:\n",
    "        return 'Insurance'\n",
    "    if 'Energy' in row['category_list'] or 'Technology' in row['category_list'] or 'Alumni' in row['category_list'] or 'Oil' in row['category_list']:\n",
    "        return 'Industry and Energy'\n",
    "    if 'Local Businesses' in row['category_list'] or 'Startups' in row['category_list']:\n",
    "        return 'Small Business'\n",
    "    else: return 'Other'\n",
    "\n",
    "    \n",
    "data_train['category_new'] = data_train.apply(asscign_category, axis=1)\n",
    "data_test['category_new'] = data_test.apply(asscign_category, axis=1)\n",
    "data_train.head()"
   ]
  },
  {
   "cell_type": "code",
   "execution_count": 133,
   "metadata": {},
   "outputs": [
    {
     "data": {
      "text/plain": [
       "Index(['status', 'city', 'lifetime', 'category_funding_total_usd',\n",
       "       'category_funding_rounds_usd', 'continent', 'category_new'],\n",
       "      dtype='object')"
      ]
     },
     "execution_count": 133,
     "metadata": {},
     "output_type": "execute_result"
    }
   ],
   "source": [
    "#показатели из тренировочной и тестовой выборки, которые войдут в модель прогнозирования:\n",
    "data_train_1 = data_train.drop(['funding_total_usd', 'year_founded_at', 'funding_rounds', 'country_code', 'category_list',\\\n",
    "                                'year_last_funding_at'], axis=1)\n",
    "data_test_1 = data_test.drop(['funding_total_usd', 'year_founded_at', 'funding_rounds', 'country_code', 'category_list',\\\n",
    "                              'year_last_funding_at'], axis=1)\n",
    "data_train_1.columns"
   ]
  },
  {
   "cell_type": "markdown",
   "metadata": {},
   "source": [
    "На графике 15 мы отмечали, что время жизни стартапа свыше 7500 является аномальным выбросом. Оставим в data_train_2 только стартапы, которые существуют менее 7500 дней."
   ]
  },
  {
   "cell_type": "code",
   "execution_count": 134,
   "metadata": {},
   "outputs": [],
   "source": [
    "data_train_2 = data_train_1.query('lifetime < 7500')"
   ]
  },
  {
   "cell_type": "markdown",
   "metadata": {},
   "source": [
    "Имеющиеся признаки мы можем разделить на следующие две категории:\n",
    "Категориальные бинарные признаки: category_funding_total_usd, category_funding_rounds_usd, continent, category_new, city. Кодирование будем проводить посредством метода OneHotEncoder().\\\n",
    "Числовые признаки: lifetime. Масштабирование проведем с помощью StandardScaler()."
   ]
  },
  {
   "cell_type": "markdown",
   "metadata": {},
   "source": [
    "## Подготовка данных"
   ]
  },
  {
   "cell_type": "code",
   "execution_count": 135,
   "metadata": {},
   "outputs": [
    {
     "data": {
      "text/plain": [
       "((37727, 6), (12576, 6))"
      ]
     },
     "execution_count": 135,
     "metadata": {},
     "output_type": "execute_result"
    }
   ],
   "source": [
    "#Разделим выборку на тренировочную и валидационную:\n",
    "RANDOM_STATE = 42\n",
    "TEST_SIZE = 0.25\n",
    "\n",
    "X_train, X_valid, y_train, y_valid = train_test_split(\n",
    "    data_train_2.drop(['status'], axis=1),\n",
    "    data_train_2['status'],\n",
    "    test_size = TEST_SIZE,\n",
    "    random_state = RANDOM_STATE,\n",
    "    stratify = data_train_2['status']\n",
    ")\n",
    "\n",
    "X_train.shape, X_valid.shape"
   ]
  },
  {
   "cell_type": "code",
   "execution_count": 136,
   "metadata": {},
   "outputs": [
    {
     "data": {
      "text/plain": [
       "(13125, 6)"
      ]
     },
     "execution_count": 136,
     "metadata": {},
     "output_type": "execute_result"
    }
   ],
   "source": [
    "X_test = data_test_1\n",
    "X_test.shape"
   ]
  },
  {
   "cell_type": "code",
   "execution_count": 137,
   "metadata": {},
   "outputs": [
    {
     "name": "stdout",
     "output_type": "stream",
     "text": [
      "Уникальные значения: ['closed' 'operating']\n",
      "Метки для каждого уникального значения: [0 1]\n"
     ]
    }
   ],
   "source": [
    "# создадим экземпляр класса LabelEncoder для кодирования целевого признака:\n",
    "label_encoder = LabelEncoder()\n",
    "label_encoder.fit(y_train)\n",
    "print(\"Уникальные значения:\", label_encoder.classes_)\n",
    "print(\"Метки для каждого уникального значения:\", label_encoder.transform(label_encoder.classes_))"
   ]
  },
  {
   "cell_type": "code",
   "execution_count": 138,
   "metadata": {},
   "outputs": [],
   "source": [
    "# обучим модель и трансформируем тренировочную выборку:\n",
    "y_train = label_encoder.fit_transform(y_train)\n",
    "\n",
    "#трансформируем валидационную выборку:\n",
    "y_valid = label_encoder.transform(y_valid)"
   ]
  },
  {
   "cell_type": "markdown",
   "metadata": {},
   "source": [
    "Введём обозначения для типов исходных данных:"
   ]
  },
  {
   "cell_type": "code",
   "execution_count": 139,
   "metadata": {},
   "outputs": [],
   "source": [
    "ohe_columns = ['category_funding_total_usd', 'category_funding_rounds_usd', 'continent', 'category_new', 'city']\n",
    "num_columns = ['lifetime'] "
   ]
  },
  {
   "cell_type": "code",
   "execution_count": 140,
   "metadata": {},
   "outputs": [],
   "source": [
    "#Добавляем OHE-кодирование в пайплайн:\n",
    "ohe_pipe = Pipeline(\n",
    "    [\n",
    "        (\n",
    "            'ohe', \n",
    "            OneHotEncoder(drop='first', handle_unknown='ignore')\n",
    "        )\n",
    "    ]\n",
    ") "
   ]
  },
  {
   "cell_type": "code",
   "execution_count": 141,
   "metadata": {},
   "outputs": [],
   "source": [
    "# создаем общий пайплайн для подготовки данных::\n",
    "data_preprocessor = ColumnTransformer(\n",
    "    [\n",
    "        ('ohe', ohe_pipe, ohe_columns),\n",
    "        ('num', StandardScaler(), num_columns)\n",
    "    ],\n",
    "    remainder='passthrough'\n",
    ") "
   ]
  },
  {
   "cell_type": "code",
   "execution_count": 142,
   "metadata": {},
   "outputs": [],
   "source": [
    "#создаем итоговый пайплайн:\n",
    "pipe_final = Pipeline([\n",
    "    ('preprocessor', data_preprocessor),\n",
    "    ('models', DecisionTreeClassifier(random_state=RANDOM_STATE))\n",
    "])\n",
    "\n",
    "param_grid = [\n",
    "        #словарь для модели KNeighborsClassifier()\n",
    "    {\n",
    "        'models': [KNeighborsClassifier()],\n",
    "       'models__n_neighbors': range(5, 10),\n",
    "        'preprocessor__num': [StandardScaler(), MinMaxScaler(), 'passthrough']\n",
    "    },\n",
    "    \n",
    "    #словарь для модели LogisticRegression()\n",
    "    {\n",
    "        'models': [LogisticRegression(\n",
    "        random_state=RANDOM_STATE,\n",
    "            solver='liblinear',\n",
    "            penalty='l1',\n",
    "            C=1\n",
    "        )],\n",
    "        'models__C': range(1, 5),\n",
    "        'preprocessor__num': [StandardScaler(), MinMaxScaler(), 'passthrough']\n",
    "    },\n",
    "    \n",
    "    #словарь для модели SVC()\n",
    "    {\n",
    "        'models': [SVC(\n",
    "            random_state=RANDOM_STATE,\n",
    "            kernel = 'poly',\n",
    "            probability=True\n",
    "        )],\n",
    "        'models__degree': range(1, 3),\n",
    "        'preprocessor__num': [StandardScaler(), MinMaxScaler(), 'passthrough']\n",
    "    }\n",
    "]"
   ]
  },
  {
   "cell_type": "code",
   "execution_count": 143,
   "metadata": {},
   "outputs": [],
   "source": [
    "randomized_search = RandomizedSearchCV(\n",
    "    pipe_final, \n",
    "    param_grid, \n",
    "    scoring = 'f1_weighted', \n",
    "    random_state=RANDOM_STATE, \n",
    "   n_jobs=-1\n",
    ")"
   ]
  },
  {
   "cell_type": "code",
   "execution_count": 144,
   "metadata": {},
   "outputs": [
    {
     "name": "stdout",
     "output_type": "stream",
     "text": [
      "Метрика для лучшей модели:\n",
      " 0.9438582288093477\n",
      "\n",
      "Лучшая модель и её параметры:\n",
      "\n",
      " Pipeline(steps=[('preprocessor',\n",
      "                 ColumnTransformer(remainder='passthrough',\n",
      "                                   transformers=[('ohe',\n",
      "                                                  Pipeline(steps=[('ohe',\n",
      "                                                                   OneHotEncoder(drop='first',\n",
      "                                                                                 handle_unknown='ignore'))]),\n",
      "                                                  ['category_funding_total_usd',\n",
      "                                                   'category_funding_rounds_usd',\n",
      "                                                   'continent', 'category_new',\n",
      "                                                   'city']),\n",
      "                                                 ('num', 'passthrough',\n",
      "                                                  ['lifetime'])])),\n",
      "                ('models', KNeighborsClassifier(n_neighbors=7))])\n"
     ]
    }
   ],
   "source": [
    "randomized_search.fit(X_train, y_train) \n",
    "\n",
    "print('Метрика для лучшей модели:\\n', randomized_search.best_score_)\n",
    "print('\\nЛучшая модель и её параметры:\\n\\n', randomized_search.best_estimator_) "
   ]
  },
  {
   "cell_type": "markdown",
   "metadata": {},
   "source": [
    "С помощью RandomizedSearchCV() нашли модель, которая наилучшим образом прогнозирует целевой признак - KNeighborsClassifier(n_neighbors=7). Метрика f1_score для наилучшей модели - 0,944, что является неплохим показателем.\\\n",
    "Проверим, как себя поведет модель на валидационных данных:"
   ]
  },
  {
   "cell_type": "code",
   "execution_count": 148,
   "metadata": {},
   "outputs": [
    {
     "name": "stderr",
     "output_type": "stream",
     "text": [
      "C:\\Users\\Ноутбуки77ru\\AppData\\Local\\Packages\\PythonSoftwareFoundation.Python.3.11_qbz5n2kfra8p0\\LocalCache\\local-packages\\Python311\\site-packages\\sklearn\\preprocessing\\_encoders.py:242: UserWarning: Found unknown categories in columns [4] during transform. These unknown categories will be encoded as all zeros\n",
      "  warnings.warn(\n"
     ]
    }
   ],
   "source": [
    "y_valid_pred = randomized_search.predict(X_valid)"
   ]
  },
  {
   "cell_type": "code",
   "execution_count": 149,
   "metadata": {},
   "outputs": [
    {
     "data": {
      "text/plain": [
       "0.9724221663342295"
      ]
     },
     "execution_count": 149,
     "metadata": {},
     "output_type": "execute_result"
    }
   ],
   "source": [
    "f1_1 = f1_score(y_valid, y_valid_pred)\n",
    "f1_1"
   ]
  },
  {
   "cell_type": "markdown",
   "metadata": {},
   "source": [
    "На валидационной выборке метрика равна 0,972. Получим предсказания на тестовых данных:"
   ]
  },
  {
   "cell_type": "code",
   "execution_count": 150,
   "metadata": {},
   "outputs": [
    {
     "name": "stderr",
     "output_type": "stream",
     "text": [
      "C:\\Users\\Ноутбуки77ru\\AppData\\Local\\Packages\\PythonSoftwareFoundation.Python.3.11_qbz5n2kfra8p0\\LocalCache\\local-packages\\Python311\\site-packages\\sklearn\\preprocessing\\_encoders.py:242: UserWarning: Found unknown categories in columns [4] during transform. These unknown categories will be encoded as all zeros\n",
      "  warnings.warn(\n"
     ]
    },
    {
     "data": {
      "text/html": [
       "<div>\n",
       "<style scoped>\n",
       "    .dataframe tbody tr th:only-of-type {\n",
       "        vertical-align: middle;\n",
       "    }\n",
       "\n",
       "    .dataframe tbody tr th {\n",
       "        vertical-align: top;\n",
       "    }\n",
       "\n",
       "    .dataframe thead th {\n",
       "        text-align: right;\n",
       "    }\n",
       "</style>\n",
       "<table border=\"1\" class=\"dataframe\">\n",
       "  <thead>\n",
       "    <tr style=\"text-align: right;\">\n",
       "      <th></th>\n",
       "      <th>status</th>\n",
       "    </tr>\n",
       "  </thead>\n",
       "  <tbody>\n",
       "    <tr>\n",
       "      <th>0</th>\n",
       "      <td>operating</td>\n",
       "    </tr>\n",
       "    <tr>\n",
       "      <th>1</th>\n",
       "      <td>operating</td>\n",
       "    </tr>\n",
       "    <tr>\n",
       "      <th>2</th>\n",
       "      <td>operating</td>\n",
       "    </tr>\n",
       "    <tr>\n",
       "      <th>3</th>\n",
       "      <td>operating</td>\n",
       "    </tr>\n",
       "    <tr>\n",
       "      <th>4</th>\n",
       "      <td>operating</td>\n",
       "    </tr>\n",
       "  </tbody>\n",
       "</table>\n",
       "</div>"
      ],
      "text/plain": [
       "      status\n",
       "0  operating\n",
       "1  operating\n",
       "2  operating\n",
       "3  operating\n",
       "4  operating"
      ]
     },
     "execution_count": 150,
     "metadata": {},
     "output_type": "execute_result"
    }
   ],
   "source": [
    "y_test_1 = randomized_search.predict(X_test)\n",
    "y_test_1 = pd.DataFrame(y_test_1)\n",
    "y_test_1 = y_test_1.replace({1: 'operating', 0: 'closed'})\n",
    "y_test_1 = y_test_1.rename(columns={0: 'status'})\n",
    "y_test_1.head()"
   ]
  },
  {
   "cell_type": "code",
   "execution_count": 151,
   "metadata": {},
   "outputs": [
    {
     "name": "stderr",
     "output_type": "stream",
     "text": [
      "C:\\Users\\Ноутбуки77ru\\AppData\\Local\\Packages\\PythonSoftwareFoundation.Python.3.11_qbz5n2kfra8p0\\LocalCache\\local-packages\\Python311\\site-packages\\sklearn\\preprocessing\\_encoders.py:242: UserWarning: Found unknown categories in columns [4] during transform. These unknown categories will be encoded as all zeros\n",
      "  warnings.warn(\n"
     ]
    },
    {
     "data": {
      "text/plain": [
       "array([1.        , 1.        , 0.85714286, ..., 1.        , 0.85714286,\n",
       "       1.        ])"
      ]
     },
     "execution_count": 151,
     "metadata": {},
     "output_type": "execute_result"
    }
   ],
   "source": [
    "probabilities = randomized_search.predict_proba(X_test)\n",
    "probabilities_one = probabilities[:, 1]\n",
    "probabilities_one"
   ]
  },
  {
   "cell_type": "code",
   "execution_count": 152,
   "metadata": {},
   "outputs": [
    {
     "data": {
      "text/html": [
       "<div>\n",
       "<style scoped>\n",
       "    .dataframe tbody tr th:only-of-type {\n",
       "        vertical-align: middle;\n",
       "    }\n",
       "\n",
       "    .dataframe tbody tr th {\n",
       "        vertical-align: top;\n",
       "    }\n",
       "\n",
       "    .dataframe thead th {\n",
       "        text-align: right;\n",
       "    }\n",
       "</style>\n",
       "<table border=\"1\" class=\"dataframe\">\n",
       "  <thead>\n",
       "    <tr style=\"text-align: right;\">\n",
       "      <th></th>\n",
       "      <th>name</th>\n",
       "    </tr>\n",
       "    <tr>\n",
       "      <th>status</th>\n",
       "      <th></th>\n",
       "    </tr>\n",
       "  </thead>\n",
       "  <tbody>\n",
       "    <tr>\n",
       "      <th>closed</th>\n",
       "      <td>903</td>\n",
       "    </tr>\n",
       "    <tr>\n",
       "      <th>operating</th>\n",
       "      <td>12222</td>\n",
       "    </tr>\n",
       "  </tbody>\n",
       "</table>\n",
       "</div>"
      ],
      "text/plain": [
       "            name\n",
       "status          \n",
       "closed       903\n",
       "operating  12222"
      ]
     },
     "execution_count": 152,
     "metadata": {},
     "output_type": "execute_result"
    }
   ],
   "source": [
    "data_test_name = kaggle_startups_test['name']\n",
    "test = pd.concat([data_test_name, y_test_1], axis=1)\n",
    "#test = test.rename(columns={0: 'status'})\n",
    "test.pivot_table(index='status', values='name', aggfunc='count')"
   ]
  },
  {
   "cell_type": "markdown",
   "metadata": {},
   "source": [
    "Сформируем итоговый файл с указанием названия стартапа и предсказанного статуса."
   ]
  },
  {
   "cell_type": "code",
   "execution_count": 155,
   "metadata": {},
   "outputs": [],
   "source": [
    "test.to_csv('result_end.csv', index=False)"
   ]
  },
  {
   "cell_type": "markdown",
   "metadata": {},
   "source": [
    "## Общий вывод"
   ]
  },
  {
   "cell_type": "markdown",
   "metadata": {},
   "source": [
    "Мы провели анализ данных о стартапах, созданных с 1970 по 2008 года. В нашем распоряжении были две выборки: тренировочная с 52 тыс. записей и тестовая с 13 тыс. записей.\\\n",
    "В ходе исследования выяснили, что из рассматриваемых стартапов в тренировочной выборке закрыты меньше 10%, остальные компании функционируют.\\\n",
    "Кроме того, время жизни стартапа считается нормальным, если оно меньше 7500 дней или 20 лет. Стартапы, существующие дольший срок являются аномальным выбросом.\\\n",
    "В среднем общая сумма финансирования стартапа из тренировочной выборки составляет 18.249 млн.USD, при стандартном отклонении - 168 млн.USD -  символизирующем большой разброс значений. При минимальном значении показателя в 1 USD, максимальное значение - 30,079 млрд.USD. Медианные значения показателя обеих выборок схожи. В тестовой выборке разброс значений меньше: стандартное отклонение 82 млн.USD.\\\n",
    "Больше 56% стартапов зарегистрированы в США, нет информации о стране регистрации для 10% компаний. В Великобритании зарегистрировано 5,5%, в России меньше 1%.\\\n",
    "65% компаний имели 1 раунд финансирования, 18% - 2 раунда, больше 8 раундо финансирования имели единичные компании.\\\n",
    "Примерно 43% стартапов основаны до 2010 года. Наибольшее количество новых стартапов было открыто в 2012, 2013 годах.\\\n",
    "Матрица корреляции признаков показала, что целевой показатель status в большей мере зависит от показателя lifetime (коэффициент корреляции - 0,536).\\\n",
    "В ходе работы были созданы ряд синтетических категориальных признаков: информация о континенте, на основе признака funding_total_usd ввели категориальный признак category_funding_total_usd, на основе информации о категории бизнесса ввели укрупненный признак category_new, а также на основе признака funding_rounds - category_funding_rounds_usd.\\\n",
    "Был подготовлен пайплайн, в котором прописаны процедуры масштабирования числовых признаков с помощью StandardScaler() и масштабирование категориальных признаков с помощью OneHotEncoder().\\\n",
    "С помощью RandomizedSearchCV() нашли модель, которая наилучшим образом прогнозирует целевой признак - KNeighborsClassifier(n_neighbors=7). Метрика f1_score для наилучшей модели - 0,944, что является неплохим показателем. На валидационной выборке метрика - 0,972.\\\n",
    "Итоговый файл с указанием названия стартапа и прогнозируемым статусом сформирован result_end.csv."
   ]
  }
 ],
 "metadata": {
  "kernelspec": {
   "display_name": "Python 3",
   "language": "python",
   "name": "python3"
  },
  "language_info": {
   "codemirror_mode": {
    "name": "ipython",
    "version": 3
   },
   "file_extension": ".py",
   "mimetype": "text/x-python",
   "name": "python",
   "nbconvert_exporter": "python",
   "pygments_lexer": "ipython3",
   "version": "3.11.9"
  }
 },
 "nbformat": 4,
 "nbformat_minor": 2
}
